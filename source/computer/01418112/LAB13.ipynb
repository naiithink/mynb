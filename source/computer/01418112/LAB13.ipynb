{
 "cells": [
  {
   "cell_type": "code",
   "execution_count": 2,
   "metadata": {},
   "outputs": [
    {
     "name": "stdout",
     "output_type": "stream",
     "text": [
      "['r', 't', 'e']\n"
     ]
    }
   ],
   "source": [
    "ls = []\n",
    "while True:\n",
    "    iPut = input()\n",
    "    if not iPut:\n",
    "        break\n",
    "    ls.append(iPut)"
   ]
  },
  {
   "cell_type": "code",
   "execution_count": 3,
   "metadata": {},
   "outputs": [
    {
     "name": "stdout",
     "output_type": "stream",
     "text": [
      "[3, 6, 7, 9]\n"
     ]
    }
   ],
   "source": [
    "def create_factors_3_7(n):\n",
    "    ls = [x for x in range(1, n * 4) if not x % 3 or not x % 7]\n",
    "    lss = ls[:n]\n",
    "    return lss\n",
    "\n",
    "print(create_factors_3_7(4))"
   ]
  },
  {
   "cell_type": "code",
   "execution_count": 33,
   "metadata": {},
   "outputs": [
    {
     "name": "stdout",
     "output_type": "stream",
     "text": [
      "4\n"
     ]
    }
   ],
   "source": [
    "def count_factors_3_7(ls):\n",
    "    ls = [x for x in ls if not x % 3 or not x % 7]\n",
    "    return len(ls)\n",
    "\n",
    "print(count_factors_3_7([1, 2, 3, 4, 5, 6, 7, 8, 9]))"
   ]
  },
  {
   "cell_type": "code",
   "execution_count": 36,
   "metadata": {},
   "outputs": [
    {
     "name": "stdout",
     "output_type": "stream",
     "text": [
      "([3, 6, 7, 9], [1, 2, 4, 5, 8])\n"
     ]
    }
   ],
   "source": [
    "def filter_factors_3_7(ls):\n",
    "    true = [x for x in ls if not x % 3 or not x % 7]\n",
    "    false = [x for x in ls if x not in true]\n",
    "    return [true, false]\n",
    "\n",
    "print(filter_factors_3_7([1, 2, 3, 4, 5, 6, 7, 8, 9]))"
   ]
  },
  {
   "cell_type": "code",
   "execution_count": 46,
   "metadata": {},
   "outputs": [
    {
     "name": "stdout",
     "output_type": "stream",
     "text": [
      "[[3, 6, 7, 9], [8, 5, 4, 2, 1]]\n"
     ]
    }
   ],
   "source": [
    "def filter_sort_factors_3_7(ls):\n",
    "    true = [x for x in ls if not x % 3 or not x % 7]\n",
    "    false = [x for x in ls[::-1] if x not in true]\n",
    "    return [true, false]\n",
    "\n",
    "print(filter_sort_factors_3_7([1, 2, 3, 4, 5, 6, 7, 8, 9]))"
   ]
  },
  {
   "cell_type": "code",
   "execution_count": 56,
   "metadata": {},
   "outputs": [
    {
     "name": "stdout",
     "output_type": "stream",
     "text": [
      "[-9.0, -9.0, -9.0, 3.0]\n",
      "3\n"
     ]
    }
   ],
   "source": [
    "pool = []\n",
    "while True:\n",
    "    iPut = input()\n",
    "    if iPut:\n",
    "        iPut = float(iPut)\n",
    "        pool.append(iPut)\n",
    "    else:\n",
    "        break\n",
    "least = [x for x in pool if x == min(pool)]\n",
    "print(len(least))"
   ]
  },
  {
   "cell_type": "code",
   "execution_count": 9,
   "metadata": {},
   "outputs": [
    {
     "name": "stdout",
     "output_type": "stream",
     "text": [
      "[1, 23]\n"
     ]
    }
   ],
   "source": [
    "ls = input().split(\".\")\n",
    "ls = [int(i) for i in ls]\n",
    "print(ls)"
   ]
  },
  {
   "cell_type": "code",
   "execution_count": 27,
   "metadata": {},
   "outputs": [
    {
     "name": "stdout",
     "output_type": "stream",
     "text": [
      "-3.000000,-6.000000\n"
     ]
    }
   ],
   "source": [
    "coor = [input().replace(\" \", \"\").split(\",\"), input().replace(\" \", \"\").split(\",\")]\n",
    "coor = [(float(coor[0][0]) + float(coor[1][0])), (float(coor[0][1]) + float(coor[1][1]))]\n",
    "print(\"%f,%f\" % (coor[0], coor[1]))"
   ]
  },
  {
   "cell_type": "code",
   "execution_count": 3,
   "metadata": {},
   "outputs": [
    {
     "name": "stdout",
     "output_type": "stream",
     "text": [
      "[1.0, 2.0]\n"
     ]
    }
   ],
   "source": [
    "coor = [input().split(\",\"), input().split(\",\")]\n",
    "coor = [float(j.strip()) for i in coor for j in i]\n",
    "coor = [coor[0] + coor[2], coor[1] + coor[3]]\n",
    "print(*coor, sep=\",\")\n",
    "\n",
    "#print(f\"(x1+x2),(y1+y2) = ({coor[0]}),({coor[1]})\")\n",
    "#print(f\"({coor[0]}+{coor[2]}),({coor[1]}+{coor[3]})\")\n",
    "#coor = [f\"({i})\" for i in coor]"
   ]
  },
  {
   "cell_type": "code",
   "execution_count": 1,
   "metadata": {},
   "outputs": [
    {
     "name": "stdout",
     "output_type": "stream",
     "text": [
      "fgh\n"
     ]
    }
   ],
   "source": [
    "iP = \"\"\n",
    "while True:\n",
    "    bf = iP\n",
    "    iP += input()\n",
    "    if iP == bf:\n",
    "        break\n",
    "print(iP)"
   ]
  },
  {
   "cell_type": "markdown",
   "metadata": {},
   "source": [
    "# 01 name, name, & name\n",
    "\n",
    "จงเขียนฟังก์ชัน namelist(names) ที่รับ parameter names ซึ่งเป็น list ของชื่อคนซึ่งเป็น string\n",
    "\n",
    "โดยฟังก์ชัน namelist(names) นี้ จะต้องคืนค่า string ที่เป็นข้อความที่เชื่อมทุกชื่อคนใน list ด้วย , ยกเว้นคู่สุดท้าย ให้เชื่อมด้วย & (ไม่มีช่องว่างหน้าเครื่องหมาย , แต่มีช่องว่างหลังเครื่องหมาย , หน้าเครื่องหมาย & และหลังเครื่องหมาย &)\n",
    "\n",
    "### ตัวอย่างผลลัพธ์เมื่อเรียกฟังก์ชัน\n",
    "\n",
    "`print( namelist([\"Bart\", \"Viola\", \"Peter\", \"Nostel\"]) )`\n",
    "> Bart, Viola, Peter & Nostel\n",
    "\n",
    "`print( namelist([\"Bart\", \"Viola\"]) )`\n",
    "> Bart & Viola\n",
    "\n",
    "`print( namelist([\"Peter\"]) )`\n",
    "> Peter\n",
    "\n",
    "`print( namelist([]) == \"\" )`\n",
    "> True"
   ]
  },
  {
   "cell_type": "code",
   "execution_count": 1,
   "metadata": {},
   "outputs": [
    {
     "name": "stdout",
     "output_type": "stream",
     "text": [
      "Bart, Viola, Peter & Nostel\n"
     ]
    }
   ],
   "source": [
    "def namelist(names):\n",
    "    product = \"\"\n",
    "    if names:\n",
    "        name = len(names) - 1\n",
    "        indx = 0\n",
    "        brk = False\n",
    "        j = 0\n",
    "        for i in names:\n",
    "            sep = [\", \", \" & \"]; product += i\n",
    "            if not brk:\n",
    "                if indx == name - 1:\n",
    "                    j += 1\n",
    "                product += sep[j]\n",
    "                if sep[j] == \" & \":\n",
    "                    brk = True\n",
    "            indx += 1\n",
    "    return product\n",
    "\n",
    "print( namelist([\"Bart\", \"Viola\", \"Peter\", \"Nostel\"]) )"
   ]
  },
  {
   "cell_type": "code",
   "execution_count": 16,
   "metadata": {},
   "outputs": [
    {
     "name": "stdout",
     "output_type": "stream",
     "text": [
      "Bart, Viola, Peter & Nostel\n"
     ]
    }
   ],
   "source": [
    "def namelist(names):\n",
    "    product = \"\"\n",
    "    if len(names) == 1:\n",
    "        product = names[0]\n",
    "    elif names:\n",
    "        product = \", \".join(names[:-1]) + \" & \" + names[-1]\n",
    "    return product\n",
    "\n",
    "names = [\"Bart\", \"Viola\", \"Peter\", \"Nostel\"]\n",
    "print(namelist(names))"
   ]
  },
  {
   "cell_type": "markdown",
   "metadata": {},
   "source": [
    "# 02 Blackjack (EASY)\n",
    "\n",
    "เกมแบล็กแจ็ค (blackjack) หรือเกม 21 แต้ม เป็นเกมไพ่ที่มีการเล่นเกมแบบง่าย ๆ คือ เริ่มจากการจั่วไพ่ 2 ใบจากสำรับ ไพ่ A มีคะแนน 1 หรือ 11 คะแนน, ไพ่ 2-10 มีคะแนนตามเลขบนไพ่ และไพ่ J Q K มีคะแนน 10 คะแนน ผู้เล่นต้องการให้คะแนนรวมของไพ่บนมือมีมากที่สุด แต่ไม่เกิน 21 คะแนน เมื่อจั่วไพ่ 2 ใบแรกแล้ว ผู้เล่นสามารถเลือกที่จะหยุดหรือจั่วไพ่เพิ่มได้อีกไม่เกิน 3 ไพ่ (รวมมีไพ่บนมือไม่เกิน 5 ใบ) เพื่อให้คะแนนรวมของไพ่บนมือสูงขึ้น แต่ในขณะเดียวกันก็มีโอกาสทำให้คะแนนรวมเกิน 21 คะแนน หากคะแนนรวมของไพ่บนมือเกิน 21 คะแนน จะถือว่าผู้เล่นคนนั้นแพ้ (busted)\n",
    "\n",
    "เนื่องจากเกมนี้เป็นเกมที่ต้องเล่นหลายคน (multiplayer game) คุณจึงต้องการบอทที่ช่วยการฝึกซ้อม วิธีการเล่นของบอทที่ต้องการคือ บอทจะจั่วไพ่จากกองจนกว่า คะแนนรวมจะมีค่ามากกว่า 16 หรือมีไพ่บนมือครบ 5 ใบ หลังจากนั้น บอทจะแสดงคะแนนรวมที่ได้ ในกรณีที่บอทมีคะแนนรวมมากกว่า 21 คะแนน จะแสดงคำว่า “busted”\n",
    "\n",
    "เพื่อความง่าย จะกำหนดให้ A มีคะแนน 1 คะแนนเท่านั้น เนื่องจากคุณเป็นโปรแกรมเมอร์ คุณจึงจะเขียนบอทสำหรับฝึกซ้อมด้วยตัวเอง\n",
    "\n",
    "#### ข้อมูลเข้า\n",
    "\n",
    "บรรทัดแรก เป็นจำนวนกรณีทดสอบ N ชุด (1 <= N <= 100)\n",
    "ถัดมา N บรรทัด แต่ละบรรทัดจะระบุไพ่ 5 ใบที่อยู่ถัดไปในกองสำรับ ไพ่แต่ละใบสามารถเป็น A, 2, 3, …, 10, J, Q หรือ K คั่นด้วยเว้นวรรค\n",
    "\n",
    "#### ข้อมูลออก\n",
    "\n",
    "สำหรับแต่ละกรณีทดสอบ ให้แสดงคำตอบ 1 บรรทัด ในกรณีที่คะแนนรวมของบอทไม่เกิน 21 คะแนน ให้แสดงคะแนนรวมนั้น และในกรณีที่คะแนนรวมเกิน 21 คะแนน ให้แสดงว่า “busted” โดยไม่มีเครื่องหมายคำพูด\n",
    "\n",
    "#### ตัวอย่าง\n",
    "\n",
    "<style>\n",
    "th, td {\n",
    "    vertical-align: top;\n",
    "}\n",
    "</style>\n",
    "\n",
    "<table>\n",
    "    <tr>\n",
    "        <th>ข้อมูลเข้า</th>\n",
    "        <th>ข้อมูลออก</th>\n",
    "    </tr>\n",
    "    <tr>\n",
    "        <td>3<br>A 10 8 2 7<br>4 5 3 J Q<br>6 2 A 3 4</td>\n",
    "        <td>19<br>busted<br>16</td>\n",
    "    </tr>\n",
    "</table>\n",
    "\n",
    "สำหรับข้อมูลเข้า \\`A 10 8 2 7\\` หมายความว่าไพ่ 5 ใบบนสุดของสำรับ คือ \\`A 10 8 2 7\\` ตามลำดับ<br>\n",
    "บอทต้องหยิบไพ่มาก่อน 2 ใบ จะได้ \\`A\\` และ \\`10\\` ซึ่งมีคะแนนรวมคือ 11 ซึ่งยังไม่มากกว่า 16<br>\n",
    "จึงหยิบไพ่เพิ่มอีก 1 ใบ ได้ \\`8\\` ทำให้ได้คะแนนรวมเป็น 19 ซึ่งมากกว่า 16 แล้ว บอทจึงไม่สนใจจะหยิบไพ่อีก\n",
    "\n",
    "สำหรับข้อมูลเข้า \\`4 5 3 J Q\\` หมายความว่าไพ่ 5 ใบบนสุดของสำรับ คือ \\`4 5 3 J Q\\` ตามลำดับ\n",
    "บอทต้องหยิบไพ่มาก่อน 2 ใบ จะได้ \\`4\\` และ \\`5\\` ซึ่งมีคะแนนรวมคือ 9 ซึ่งยังไม่มากกว่า 16<br>\n",
    "จึงหยิบไพ่เพิ่มอีก 1 ใบ ได้ \\`3\\` ทำให้ได้คะแนนรวมเป็น 12 ซึ่งยังไม่มากกว่า 16<br>\n",
    "จึงหยิบไพ่เพิ่มอีก 1 ใบ ได้ \\`J\\` ทำให้ได้คะแนนรวมเป็น 22 ซึ่งมากกว่า 16 แล้ว บอทจึงไม่สนใจจะหยิบไพ่อีก<br>\n",
    "แต่ 22 มากกว่า 21 จึงเป็น busted\n",
    "\n",
    "สำหรับข้อมูลเข้า \\`6 2 A 3 4\\` หมายความว่าไพ่ 5 ใบบนสุดของสำรับ คือ \\`6 2 A 3 4\\` ตามลำดับ\n",
    "บอทต้องหยิบไพ่มาก่อน 2 ใบ จะได้ \\`6\\` และ \\`2\\` ซึ่งมีคะแนนรวมคือ 8 ซึ่งยังไม่มากกว่า 16<br>\n",
    "จึงหยิบไพ่เพิ่มอีก 1 ใบ ได้ \\`A\\` ทำให้ได้คะแนนรวมเป็น 9 ซึ่งยังไม่มากกว่า 16<br>\n",
    "จึงหยิบไพ่เพิ่มอีก 1 ใบ ได้ \\`3\\` ทำให้ได้คะแนนรวมเป็น 12 ซึ่งยังไม่มากกว่า 16<br>\n",
    "จึงหยิบไพ่เพิ่มอีก 1 ใบ ได้ \\`4\\` ทำให้ได้คะแนนรวมเป็น 16 ซึ่งยังไม่มากกว่า 16<br>\n",
    "แต่ไม่สามารถหยิบไพ่เพิ่มได้อีก เพราะไพ่บนมือมี 5 ใบแล้ว"
   ]
  },
  {
   "cell_type": "code",
   "execution_count": 2,
   "metadata": {},
   "outputs": [
    {
     "name": "stdout",
     "output_type": "stream",
     "text": [
      "20\n"
     ]
    }
   ],
   "source": [
    "round = int(input())\n",
    "if round in range(1, 101):\n",
    "    nowOn = round\n",
    "    turns = []\n",
    "    marks = 0\n",
    "    ignore = False\n",
    "    while nowOn:\n",
    "        tries = input().split(\" \")\n",
    "        if len(tries) <= 5:\n",
    "            turns.append(tries)\n",
    "            nowOn -= 1\n",
    "    \n",
    "    board = {\n",
    "        \"A\": 1,\n",
    "        \"J\": 10,\n",
    "        \"Q\": 10,\n",
    "        \"K\": 10\n",
    "    }\n",
    "    for i in range(2, 11):\n",
    "        board[str(i)] = i\n",
    "    \n",
    "    for line in turns:\n",
    "        for card in line:\n",
    "            if not ignore:\n",
    "                marks += board[card]\n",
    "                if marks > 21:\n",
    "                    marks = -1\n",
    "                    ignore = True\n",
    "                elif marks > 16:\n",
    "                    ignore = True\n",
    "        if marks == -1:\n",
    "            marks = \"busted\"\n",
    "        print(marks)\n",
    "        marks = 0\n",
    "        ignore = False"
   ]
  },
  {
   "cell_type": "markdown",
   "metadata": {},
   "source": [
    "# 03 ทอนเงิน (ธนบัตรใดๆ)\n",
    "ให้นิสิตเขียนโปรแกรมทอนเงิน แต่ครั้งนี้ให้จำนวนและมูลค่าของธนบัตรนั้นถูกกำหนดโดยผู้ใช้\n",
    "\n",
    "โปรแกรมจะรับข้อมูลจำนวนของประเภทธนบัตร (n) มาก่อนในบรรทัดแรก จากนั้นบรรทัดที่ 2 ถึง n+1 จะรับมูลค่าของธนบัตรทีละใบ มูลค่าของธนบัตรที่ใส่เข้ามาอาจไม่เรียงลำดับก็ได้ จากนั้นโปรแกรมจะรับจำนวนเงินที่จะต้องทอนในบรรทัดสุดท้าย\n",
    "\n",
    "โปรแกรมจะพิมพ์จำนวนธนบัตรแต่ละประเภทที่ต้องทอน โดยพิมพ์เรียงลำดับมูลค่าธนบัตรจากมากไปน้อย โดยการทอนเงินจะใช้หลักการว่าจะใช้ธนบัตรที่มีมูลค่ามากที่สุดเท่าที่จะทำได้ และจำนวนธนบัตรมีไม่จำกัด\n",
    "\n",
    "#### ตัวอย่างข้อมูลเข้า/ข้อมูลออก\n",
    "\n",
    "<style>\n",
    "th, td {\n",
    "    vertical-align: top;\n",
    "}\n",
    "</style>\n",
    "\n",
    "<table>\n",
    "    <tr>\n",
    "        <th>ข้อมูลเข้า</th>\n",
    "        <th>ข้อมูลออก</th>\n",
    "    </tr>\n",
    "    <tr>\n",
    "        <td>6<br>500<br>100<br>50<br>10<br>5<br>1<br>876</td>\n",
    "        <td>500: 1<br>100: 3<br>50: 1<br>10: 2<br>5: 1<br>1: 1</td>\n",
    "    </tr>\n",
    "    <tr>\n",
    "        <td>5<br>10<br>50<br>5<br>1<br>100<br>876</td>\n",
    "        <td>100: 8<br>50: 1<br>10: 2<br>5: 1<br>1: 1</td>\n",
    "    </tr>\n",
    "</table>"
   ]
  },
  {
   "cell_type": "code",
   "execution_count": 166,
   "metadata": {},
   "outputs": [
    {
     "name": "stdout",
     "output_type": "stream",
     "text": [
      "100: 8\n",
      "50: 1\n",
      "10: 2\n",
      "5: 1\n",
      "1: 1\n"
     ]
    }
   ],
   "source": [
    "types = int(input())\n",
    "notes = []\n",
    "\n",
    "while types:\n",
    "    note = int(input())\n",
    "    if note:\n",
    "        notes.append(note)\n",
    "        types -= 1\n",
    "\n",
    "notes.sort(reverse=True)\n",
    "amount = int(input())\n",
    "\n",
    "notePool = {}\n",
    "for note in notes:\n",
    "    notePool[note] = 0\n",
    "\n",
    "for note in notePool:\n",
    "    if amount // note:\n",
    "        notePool[note] = amount // note\n",
    "        amount -= notePool[note] * note\n",
    "\n",
    "for i in notePool:\n",
    "    print(f\"{i}: {notePool[i]}\")"
   ]
  },
  {
   "cell_type": "markdown",
   "metadata": {},
   "source": [
    "# 04\n",
    "\n",
    "![LAB13, PB04](https://sn3302files.storage.live.com/y4msJ2DdWARqewfdWLaEqkvsHYdE6ihGlpJ9xKvs_XxBuXX2xNS9Czq-6tIGWpSMLcEnH1iOKRw_fRB1Ojn8MqTY5TDsv63-JvGQWnCdfPhTqkbiSh3XEB6Yt6SJFSD6b4Dml06K-CnpdUZBArbP2QEi5r4d3KmwGVIk1iUjMoBYMTcHLiNJOuey7vzQKInhj2X?width=1386&height=1346&cropmode=none)"
   ]
  },
  {
   "cell_type": "code",
   "execution_count": 33,
   "metadata": {},
   "outputs": [
    {
     "name": "stdout",
     "output_type": "stream",
     "text": [
      "1\n"
     ]
    }
   ],
   "source": [
    "def cMonth(m):\n",
    "    if m > 12 or m < 1:\n",
    "        return 12\n",
    "    else: return m\n",
    "    \n",
    "def cDay(d, m):\n",
    "    if d not in range(1, diy[m]+1):\n",
    "        return 1\n",
    "\n",
    "def cDate(d, m, sd):\n",
    "    return (sum(diy[1:m]) + d - sd) // 7\n",
    "\n",
    "diy = [None, 31, 28, 31, 30, 31, 30, 31, 31, 30, 31, 30, 31]\n",
    "\n",
    "D1, M1 = input().split(\"-\")\n",
    "D2, M2 = input().split(\"-\")\n",
    "sun_day = int(input())\n",
    "\n",
    "if int(M1) not in range(1, 13) or int(M2) not in range(1, 13):\n",
    "    print(\"Wrong Month\")\n",
    "    if cDay(int(D1), cMonth(int(M1))) or cDay(int(D2), cMonth(int(M2))) or sun_day < 1 or sun_day > 7:\n",
    "        print(\"Wrong Day\")\n",
    "        \n",
    "else:\n",
    "    if cDay(int(D1), cMonth(int(M1))) or cDay(int(D2), cMonth(int(M2))) or sun_day < 1 or sun_day > 7:\n",
    "        print(\"Wrong Day\")\n",
    "    \n",
    "    else:\n",
    "        print(abs((cDate(int(D1), int(M1), sun_day)) - (cDate(int(D2), int(M2), sun_day))))"
   ]
  },
  {
   "cell_type": "code",
   "execution_count": 161,
   "metadata": {},
   "outputs": [
    {
     "ename": "TypeError",
     "evalue": "'int' object is not iterable",
     "output_type": "error",
     "traceback": [
      "\u001b[0;31m---------------------------------------------------------------------------\u001b[0m",
      "\u001b[0;31mTypeError\u001b[0m                                 Traceback (most recent call last)",
      "\u001b[0;32m/var/folders/y1/gjh2y2395_lb_m446f5sw0b00000gn/T/ipykernel_4659/1780329559.py\u001b[0m in \u001b[0;36m<module>\u001b[0;34m\u001b[0m\n\u001b[1;32m     18\u001b[0m \u001b[0;32mfor\u001b[0m \u001b[0mi\u001b[0m \u001b[0;32min\u001b[0m \u001b[0mdaysInAMonth\u001b[0m\u001b[0;34m:\u001b[0m\u001b[0;34m\u001b[0m\u001b[0;34m\u001b[0m\u001b[0m\n\u001b[1;32m     19\u001b[0m     \u001b[0mloop\u001b[0m \u001b[0;34m=\u001b[0m \u001b[0mdaysInAMonth\u001b[0m\u001b[0;34m[\u001b[0m\u001b[0mi\u001b[0m\u001b[0;34m]\u001b[0m\u001b[0;34m\u001b[0m\u001b[0;34m\u001b[0m\u001b[0m\n\u001b[0;32m---> 20\u001b[0;31m     \u001b[0mh\u001b[0m\u001b[0;34m[\u001b[0m\u001b[0mi\u001b[0m\u001b[0;34m]\u001b[0m \u001b[0;34m=\u001b[0m \u001b[0;34m[\u001b[0m\u001b[0mi\u001b[0m \u001b[0;34m+\u001b[0m \u001b[0;36m1\u001b[0m \u001b[0;32mfor\u001b[0m \u001b[0m_\u001b[0m \u001b[0;32min\u001b[0m \u001b[0mloop\u001b[0m\u001b[0;34m]\u001b[0m\u001b[0;34m\u001b[0m\u001b[0;34m\u001b[0m\u001b[0m\n\u001b[0m\u001b[1;32m     21\u001b[0m     \u001b[0mh\u001b[0m\u001b[0;34m[\u001b[0m\u001b[0mi\u001b[0m\u001b[0;34m]\u001b[0m \u001b[0;34m=\u001b[0m \u001b[0mlist\u001b[0m\u001b[0;34m(\u001b[0m\u001b[0mrange\u001b[0m\u001b[0;34m(\u001b[0m\u001b[0mlast\u001b[0m\u001b[0;34m,\u001b[0m \u001b[0mdaysInAMonth\u001b[0m\u001b[0;34m[\u001b[0m\u001b[0mi\u001b[0m\u001b[0;34m]\u001b[0m\u001b[0;34m+\u001b[0m\u001b[0;36m1\u001b[0m\u001b[0;34m)\u001b[0m\u001b[0;34m)\u001b[0m\u001b[0;34m\u001b[0m\u001b[0;34m\u001b[0m\u001b[0m\n\u001b[1;32m     22\u001b[0m     \u001b[0mlast\u001b[0m \u001b[0;34m=\u001b[0m \u001b[0mdaysInAMonth\u001b[0m\u001b[0;34m[\u001b[0m\u001b[0mi\u001b[0m\u001b[0;34m]\u001b[0m\u001b[0;34m\u001b[0m\u001b[0;34m\u001b[0m\u001b[0m\n",
      "\u001b[0;31mTypeError\u001b[0m: 'int' object is not iterable"
     ]
    }
   ],
   "source": [
    "daysInAMonth = {\n",
    "    1: 31,\n",
    "    2: 28,\n",
    "    3: 31,\n",
    "    4: 30,\n",
    "    5: 31,\n",
    "    6: 30,\n",
    "    7: 31,\n",
    "    8: 31,\n",
    "    9: 30,\n",
    "    10: 31,\n",
    "    11: 30,\n",
    "    12: 31\n",
    "}\n",
    "\n",
    "h = {}\n",
    "last = 1\n",
    "for i in daysInAMonth:\n",
    "    loop = daysInAMonth[i]\n",
    "    h[i] = [i + 1 for _ in loop]\n",
    "    h[i] = list(range(last, daysInAMonth[i]+1))\n",
    "    last = daysInAMonth[i]\n",
    "\n",
    "print(\"h =\", h)\n",
    "daysInAYear = {f\"{month}: {[i for i in range(1, daysInAMonth[month])]}\" for month in daysInAMonth}\n",
    "\n",
    "print(\"s\", daysInAYear)\n",
    "line = 2\n",
    "date = [input().split(\"-\")[::-1] for _ in range(line)]\n",
    "firstSun = [\"01\", input()]\n",
    "\n",
    "#mapDays = dict((\"month\" = list(day)) for month in daysInAMonth for day in list(range(1, daysInAMonth[month])))\n",
    "\n",
    "print(mapDays)\n",
    "#elapDays = \n",
    "print(date)\n",
    "print(firstSun)"
   ]
  },
  {
   "cell_type": "code",
   "execution_count": 39,
   "metadata": {},
   "outputs": [
    {
     "ename": "ValueError",
     "evalue": "invalid literal for int() with base 10: 'c'",
     "output_type": "error",
     "traceback": [
      "\u001b[0;31m---------------------------------------------------------------------------\u001b[0m",
      "\u001b[0;31mValueError\u001b[0m                                Traceback (most recent call last)",
      "\u001b[0;32m/var/folders/y1/gjh2y2395_lb_m446f5sw0b00000gn/T/ipykernel_5386/2271022052.py\u001b[0m in \u001b[0;36m<module>\u001b[0;34m\u001b[0m\n\u001b[1;32m     10\u001b[0m dateInput = {\n\u001b[1;32m     11\u001b[0m     \u001b[0mint\u001b[0m\u001b[0;34m(\u001b[0m\u001b[0minputDate\u001b[0m\u001b[0;34m[\u001b[0m\u001b[0;36m0\u001b[0m\u001b[0;34m]\u001b[0m\u001b[0;34m[\u001b[0m\u001b[0;36m1\u001b[0m\u001b[0;34m]\u001b[0m\u001b[0;34m)\u001b[0m\u001b[0;34m:\u001b[0m \u001b[0mint\u001b[0m\u001b[0;34m(\u001b[0m\u001b[0minputDate\u001b[0m\u001b[0;34m[\u001b[0m\u001b[0;36m0\u001b[0m\u001b[0;34m]\u001b[0m\u001b[0;34m[\u001b[0m\u001b[0;36m0\u001b[0m\u001b[0;34m]\u001b[0m\u001b[0;34m)\u001b[0m\u001b[0;34m,\u001b[0m\u001b[0;34m\u001b[0m\u001b[0;34m\u001b[0m\u001b[0m\n\u001b[0;32m---> 12\u001b[0;31m     \u001b[0mint\u001b[0m\u001b[0;34m(\u001b[0m\u001b[0minputDate\u001b[0m\u001b[0;34m[\u001b[0m\u001b[0;36m1\u001b[0m\u001b[0;34m]\u001b[0m\u001b[0;34m[\u001b[0m\u001b[0;36m1\u001b[0m\u001b[0;34m]\u001b[0m\u001b[0;34m)\u001b[0m\u001b[0;34m:\u001b[0m \u001b[0mint\u001b[0m\u001b[0;34m(\u001b[0m\u001b[0minputDate\u001b[0m\u001b[0;34m[\u001b[0m\u001b[0;36m1\u001b[0m\u001b[0;34m]\u001b[0m\u001b[0;34m[\u001b[0m\u001b[0;36m0\u001b[0m\u001b[0;34m]\u001b[0m\u001b[0;34m)\u001b[0m\u001b[0;34m\u001b[0m\u001b[0;34m\u001b[0m\u001b[0m\n\u001b[0m\u001b[1;32m     13\u001b[0m }\n\u001b[1;32m     14\u001b[0m \u001b[0;34m\u001b[0m\u001b[0m\n",
      "\u001b[0;31mValueError\u001b[0m: invalid literal for int() with base 10: 'c'"
     ]
    }
   ],
   "source": [
    "validInput = 1\n",
    "daysInAMonth = {\n",
    "    31: [1, 3, 5, 7, 8, 10, 12],\n",
    "    30: [4, 6, 9, 11],\n",
    "    28: [2]\n",
    "}\n",
    "\n",
    "yearMap = {}\n",
    "i = 1\n",
    "yearMap = [yearMap[months]: list(range(i, daysInAMonth)) for days in daysInAMonth for months in days]\n",
    "\n",
    "def verify(inputDate):\n",
    "    \n",
    "    return \n",
    "\n",
    "inputDate = []\n",
    "\n",
    "while len(inputDate) < 2:\n",
    "    inputDate = input().split(\"-\")\n",
    "        if verify(inputDate):\n",
    "\n",
    "    \n",
    "\n",
    "#inputDate = sorted([input().split(\"-\"), input().split(\"-\")])\n",
    "\n",
    "dateInput = {\n",
    "    int(inputDate[0][1]): int(inputDate[0][0]),\n",
    "    int(inputDate[1][1]): int(inputDate[1][0])\n",
    "}\n",
    "\n",
    "if inputDate[0][1] == inputDate[1][1]:\n",
    "    dateInput[int(inputDate[1][1])] = sorted([int(inputDate[0][0]), int(inputDate[1][0])])\n",
    "\n",
    "print(dateInput)\n",
    "\n",
    "for month in dateInput:\n",
    "    if month not in range(1, 13):\n",
    "        print(\"month =\", month)\n",
    "        print(\"Wrong Month\")\n",
    "        validInput = 0\n",
    "        break\n",
    "    else:\n",
    "        for day in dateInput[month]:\n",
    "            if day not in daysInAMonth[month]:\n",
    "                print(\"Wrong Day\")\n",
    "                validInput = 0\n",
    "                break\n",
    "\n",
    "if validInput:\n",
    "    print(\"oi\")"
   ]
  },
  {
   "cell_type": "markdown",
   "metadata": {},
   "source": [
    "## 05 ผลบวกของเลข Fibonacci\n",
    "\n",
    "![LAB13, PB05-01](https://sn3302files.storage.live.com/y4mCbb5WqbeAm-nI9FwSjtCeStfaehh306DGhLSUnlx2hYOji2ThhX3vvzevz4rMlFQfs5mZSOonVxKbLmD2FDwErD2HiFDAi5rZO6JBXtod3J43BmK72l_B7bBIWboju5P71M3-XwcYGTJ50QMBTPqM9n8FNx_p9p9RXBFHXmMLfitdVY3ax9sjvKRw9lX-2E_?width=1386&height=1340&cropmode=none)\n",
    "![LAB13, PB05-02](https://sn3302files.storage.live.com/y4m3n9yBhOnzuq6CRScnYgm5njEWV_c7qbPVRxm3UGAVBpx6PgxHVX1-HTa3vvq7ufqfMu5ZaI1XFI0qd1tBP1W77PkrYgfZVo35McmfY1z91jcQgDhjKUErQ9V-skNUmOFinGuy-_dPWFtWaY5ZkUAoTHSrl8n5s6A59PYNmScgy-jfRvZo4jJrjqTa4wz3lfg?width=1386&height=424&cropmode=none)"
   ]
  },
  {
   "cell_type": "code",
   "execution_count": null,
   "metadata": {},
   "outputs": [],
   "source": [
    "def fibo(n, c):\n",
    "    result = 0\n",
    "    if n < 2:\n",
    "        return 1\n",
    "    f1 = 1\n",
    "    f2 = 1\n",
    "    for i in range(n-1):\n",
    "        total = f1 + f2\n",
    "        f1 = f2\n",
    "        f2 = total\n",
    "        if i % 2 == 0 and c == \"E\":\n",
    "            result += total\n",
    "        elif i % 2 != 0 and c == \"O\":\n",
    "            result += total\n",
    "    return result+1\n",
    "\n",
    "num = input()\n",
    "char = input().upper()\n",
    "\n",
    "if char in \"EO\" and num.isdigit():\n",
    "    if num == \"0\" and char == \"E\":\n",
    "        print(fibo(int(num), char))\n",
    "    elif int(num) > 0:\n",
    "        print(fibo(int(num), char))\n",
    "    else:\n",
    "        print(\"ERROR\")\n",
    "else:\n",
    "    print(\"ERROR\")"
   ]
  },
  {
   "cell_type": "markdown",
   "metadata": {},
   "source": [
    "## PB06 ลิสต์เรียงหรือไม่\n",
    "\n",
    "จงเขียนโปรแกรมเพื่อรับจำนวนเต็มใดๆ ที่มีค่าตั้งแต่ 0 ถึง 100 มาสร้างเป็น list โดยให้รับเข้ามาเรื่อยๆ จนผู้ใช้ใส่ -1 จึงหยุด จากนั้นให้ตรวจสอบลำดับของสมาชิกใน list และแสดงผลอย่างใดอย่างหนึ่งดังต่อไปนี้ คือ<br>\n",
    "1) สมาชิกใน list เรียงลำดับแบบ non-increasing order นั่นคือ สมาชิกมีค่าไม่เพิ่มขึ้นจากสมาชิกในลำดับก่อนหน้า<br>\n",
    "2) สมาชิกใน list เรียงลำดับแบบ non-decreasing order นั่นคือ สมาชิกมีค่าไม่ลดลงจากสมาชิกในลำดับก่อนหน้า<br>\n",
    "3) สมาชิกใน list เรียงลำดับแบบสุ่ม random order นั่นคือไม่มีลำดับ\n",
    "4) สมาชิกใน list เป็นค่าเดียวกันหมด<br>\n",
    "\n",
    "<em>หมายเหตุ</em>\n",
    "\n",
    "- กำหนดให้มีฟังก์ชัน check_order(l) เพื่อตรวจสอบการเรียงลำดับสมาชิกใน list l และแสดงผลรูปแบบลำดับที่พบ\n",
    "- ให้แสดงข้อความโต้ตอบหรือข้อผิดพลาดที่อาจเกิดขึ้นในกรณีต่างๆ ดังนี้\n",
    "    - “Number is out of range.”เมื่อคะแนนไม่อยู่ในช่วง 0 – 100\n",
    "    - ถ้าลิสต์ว่าง ให้พิมพ์คำว่า \"The list is empty.\"\n",
    "    - ถ้าลิสต์เป็นกรณีที่ 1 ให้แสดงคำว่า \"The list is in non-increasing order.\"\n",
    "    - ถ้าลิสต์เป็นกรณีที่ 2 ให้แสดงคำว่า \"The list is in non-decreasing order.\"\n",
    "    - ถ้าลิสต์เป็นกรณีที่ 3 ให้แสดงคำว่า \"The list is in random order.\"\n",
    "    - ถ้าลิสต์เป็นกรณีที่ 4 ให้แสดงคำว่า \"The list is in non-increasing and - - non-decreasing order.\"\n",
    "\n",
    "<em>คำเตือน</em>\n",
    "\n",
    "- list.copy() มีใน python เวอร์ชัน 3.3 ขึ้นไปเท่านั้น ใน elab ไม่มีคำสั่งนี้ ให้นิสิตก็อปปี้ลิสต์เอง\n",
    "\n",
    "#### ตัวอย่าง Input/Output 1\n",
    "\n",
    "> Enter a number (-1 to end): 1<br>\n",
    "> Enter a number (-1 to end): 1<br>\n",
    "> Enter a number (-1 to end): 2<br>\n",
    "> Enter a number (-1 to end): 3<br>\n",
    "> Enter a number (-1 to end): -1<br>\n",
    "> `-----`<br>\n",
    "> Original list:<br>\n",
    "> [1, 1, 2, 3]<br>\n",
    "> The list is in non-decreasing order.<br>\n",
    "\n",
    "#### ตัวอย่าง Input/Output 2\n",
    "\n",
    "> Enter a number (-1 to end): 3<br>\n",
    "> Enter a number (-1 to end): 2<br>\n",
    "> Enter a number (-1 to end): 1<br>\n",
    "> Enter a number (-1 to end): -1<br>\n",
    "> `-----`<br>\n",
    "> Original list:<br>\n",
    "> [3, 2, 1]<br>\n",
    "> The list is in non-increasing order.<br>"
   ]
  },
  {
   "cell_type": "code",
   "execution_count": null,
   "metadata": {},
   "outputs": [],
   "source": [
    "def check_order(l,c):\n",
    "    c.sort()\n",
    "    if not l:\n",
    "        return \"The list is empty.\"\n",
    "    elif l.count(l[0]) == len(l):\n",
    "        return \"The list is in non-increasing and non-decreasing order.\"\n",
    "    elif c == l:\n",
    "        return \"The list is in non-decreasing order.\"\n",
    "    c.sort(reverse=True)\n",
    "    if c == l:\n",
    "        return \"The list is in non-increasing order.\"\n",
    "    else:\n",
    "        return \"The list is in random order.\"\n",
    "total = []\n",
    "while True:\n",
    "    i = input(\"Enter a number (-1 to end): \")\n",
    "    if i == \"-1\" or i == \"\":\n",
    "        break\n",
    "    i = int(i)\n",
    "    if i < 0 or i > 100:\n",
    "        print(\"Number is out of range.\")\n",
    "    else:\n",
    "        total.append(i)\n",
    "check = []\n",
    "if total:\n",
    "    for i in total:\n",
    "        check.append(i)\n",
    "print(\"-----\")\n",
    "print(\"Original list:\\n\", total, sep=\"\")\n",
    "print(check_order(total, check))"
   ]
  },
  {
   "cell_type": "markdown",
   "metadata": {},
   "source": [
    "## PB07 Minesweeper\n",
    "\n",
    "![LAB13, PB07-01](https://sn3302files.storage.live.com/y4mnQ2_FbHiPkmybJD2CilkYwCs9yAb4La-tHbuq13JF93Iih7NRC4ncV-GTKDh1yLnu1Wt4nAbBTc0nrs8TkWzsYjxKSjx490orNJw2JwSSaLxqjeKMMr9VaRDdAG1GnVZROKQm8yM2_zHb56wnjhvxJ3HLKEZQJORztnSXSgdZxkcxhoUh2fw1BpJNf5zkKh1?width=1386&height=1342&cropmode=none)\n",
    "![LAB13, PB07-02](https://sn3302files.storage.live.com/y4mTvFHyMdgh--Perzbb8UCmEn8LJEbxv16B_4cNjAwA3PdBVpLRnQiIReKqfkpRtCMsu_OeSWsjGJzr72I9NbHzKFtoMDKuxPcvMNqL31-GK_0dBCGMR8pJlYGunH_ebR8XLq5zinmwhtY1UkKEglaGifKmRJTwPP-A4f19nxJH-PMt87zMsBfGGEPHBvXfr5E?width=1386&height=1008&cropmode=none)"
   ]
  },
  {
   "cell_type": "code",
   "execution_count": 132,
   "metadata": {},
   "outputs": [
    {
     "name": "stdout",
     "output_type": "stream",
     "text": [
      "41041000\n",
      "82082\n",
      "leng = 1000\n"
     ]
    }
   ],
   "source": [
    "ls = \".\" * 82\n",
    "num = [x for x in range(1001)]\n",
    "cnt = [1 for i in ls if i]\n",
    "findLen = [i for i in num for j in cnt if i and j]\n",
    "print(sum(findLen))\n",
    "print(sum(findLen) // 500)\n",
    "\n",
    "leng = findLen[-1]\n",
    "print(\"leng =\", leng)"
   ]
  },
  {
   "cell_type": "code",
   "execution_count": 28,
   "metadata": {},
   "outputs": [
    {
     "name": "stdout",
     "output_type": "stream",
     "text": [
      "1110000000\n",
      "1*11110000\n",
      "1111*10000\n",
      "0001110000\n",
      "0111000000\n",
      "01*1000111\n",
      "01110001*1\n",
      "0000000111\n",
      "\n"
     ]
    }
   ],
   "source": [
    "dim_y, dim_x = input().split(\"x\")\n",
    "dim_y, dim_x = int(dim_y), int(dim_x)\n",
    "mine_count = int(input())\n",
    "\n",
    "def print_board(board):\n",
    "    s = \"\"\n",
    "    for i in board:\n",
    "        s += \"\".join(str(e) for e in i) + \"\\n\"\n",
    "    print(s)\n",
    "\n",
    "board = [[0] * dim_x for i in range(dim_y)]\n",
    "\n",
    "for i in range(mine_count):\n",
    "    mine_y, mine_x = input().split(\",\")\n",
    "    mine_y, mine_x = int(mine_y), int(mine_x)\n",
    "    board[mine_y][mine_x] = \"*\"\n",
    "\n",
    "    if board[mine_y - 1][mine_x] != \"*\" and mine_y - 1 >= 0:\n",
    "        board[mine_y - 1][mine_x] += 1\n",
    "    if mine_y + 1 < dim_y:\n",
    "        if board[mine_y + 1][mine_x] != \"*\":\n",
    "            board[mine_y + 1][mine_x] += 1\n",
    "    if mine_x + 1 < dim_x:\n",
    "        if board[mine_y][mine_x + 1] != \"*\":\n",
    "            board[mine_y][mine_x + 1] += 1\n",
    "    if board[mine_y][mine_x - 1] != \"*\" and mine_x - 1 >= 0:\n",
    "        board[mine_y][mine_x - 1] += 1\n",
    "    if mine_y + 1 < dim_y and mine_x + 1 < dim_x:\n",
    "        if board[mine_y + 1][mine_x + 1] != \"*\":\n",
    "            board[mine_y + 1][mine_x + 1] += 1\n",
    "    if mine_y + 1 < dim_y and mine_x - 1 >= 0:\n",
    "        if board[mine_y + 1][mine_x - 1] != \"*\":\n",
    "            board[mine_y + 1][mine_x - 1] += 1\n",
    "    if mine_x + 1 < dim_x and mine_y - 1 >= 0:\n",
    "        if board[mine_y - 1][mine_x + 1] != \"*\":\n",
    "            board[mine_y - 1][mine_x + 1] += 1\n",
    "    if mine_y - 1 >= 0 and mine_x - 1 >= 0:\n",
    "        if board[mine_y - 1][mine_x - 1] != \"*\":\n",
    "            board[mine_y - 1][mine_x - 1] += 1\n",
    "\n",
    "print_board(board)"
   ]
  },
  {
   "cell_type": "code",
   "execution_count": 6,
   "metadata": {},
   "outputs": [
    {
     "name": "stdout",
     "output_type": "stream",
     "text": [
      "False\n",
      "False\n"
     ]
    }
   ],
   "source": [
    "a = input().replace(\" \", \"\")\n",
    "b = input().replace(\" \", \"\")\n",
    "print(a == b)\n",
    "print(a is b)"
   ]
  }
 ],
 "metadata": {
  "interpreter": {
   "hash": "aee8b7b246df8f9039afb4144a1f6fd8d2ca17a180786b69acc140d282b71a49"
  },
  "kernelspec": {
   "display_name": "Python 3.10.0 64-bit",
   "name": "python3"
  },
  "language_info": {
   "codemirror_mode": {
    "name": "ipython",
    "version": 3
   },
   "file_extension": ".py",
   "mimetype": "text/x-python",
   "name": "python",
   "nbconvert_exporter": "python",
   "pygments_lexer": "ipython3",
   "version": "3.10.0"
  },
  "orig_nbformat": 4
 },
 "nbformat": 4,
 "nbformat_minor": 2
}
