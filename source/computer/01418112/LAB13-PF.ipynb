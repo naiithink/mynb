{
 "cells": [
  {
   "cell_type": "code",
   "execution_count": null,
   "metadata": {},
   "outputs": [],
   "source": [
    "def vowels(word, count, boolean):\n",
    "    word.lower()\n",
    "    cnt = 0\n",
    "    for i in word:\n",
    "        if i in \"aeiou\":\n",
    "            cnt += 1\n",
    "\n",
    "    if count:\n",
    "        product = cnt\n",
    "    elif boolean:\n",
    "        product = bool(cnt)\n",
    "    \n",
    "    return product"
   ]
  },
  {
   "cell_type": "markdown",
   "metadata": {},
   "source": [
    "Bigrams (simple)\n",
    "\n",
    "Bigrams คือ ตัวอักษรสองตัวติดกันทั้งหมด ที่ได้จากคำ หรือประโยค เช่น คำว่า Hello จะมี bigrams เป็น 'He', 'el', 'll', และ 'lo' ให้เขียนโปรแกรม python รับอินพุตเป็นคำภาษาอังกฤษ 1 คำ แล้วแสดง bigrams ของคำดังกล่าว ในรูปแบบเป็นตัวอักษรโรมันตัวพิมพ์เล็กทั้งหมด เรียงลำดับแบบ ascending (น้อยไปมาก) บรรทัดละหนึ่ง bigram และไม่แสดง bigram ที่ซ้ำกัน\n",
    "ตัวอย่างข้อมูลเข้า/ข้อมูลออก\n",
    "\n",
    "ข้อมูลเข้า\n",
    "Hello \t\n",
    "\n",
    "ข้อมูลออก\n",
    "el\n",
    "he\n",
    "ll\n",
    "lo\n",
    "\n",
    "computerscience \t\n",
    "\n",
    "ce\n",
    "ci\n",
    "co\n",
    "en\n",
    "er\n",
    "ie\n",
    "mp\n",
    "nc\n",
    "om\n",
    "pu\n",
    "rs\n",
    "sc\n",
    "te\n",
    "ut\n"
   ]
  },
  {
   "cell_type": "code",
   "execution_count": null,
   "metadata": {},
   "outputs": [],
   "source": [
    "word = input()\n",
    "word = word.lower()\n",
    "indx = 0\n",
    "pair = []\n",
    "while indx < len(word) - 1:\n",
    "    pairing = word[indx] + word[indx + 1]\n",
    "    if pairing not in pair:\n",
    "        pair.append(pairing)\n",
    "    indx += 1\n",
    "pair.sort()\n",
    "for x in pair:\n",
    "    print(x)"
   ]
  },
  {
   "cell_type": "markdown",
   "metadata": {},
   "source": [
    "ลูกของสิงโตและเสือเรียกว่า liger (Mix Name)\n",
    "\n",
    "National Geographic เป็นรายการสารคดีที่บอกเล่าเรื่องราวของสิ่งมีชีวิตในมุมมองต่าง ๆ วันหนึ่งรายการนี้ได้เล่าเรื่องของสิงโต (lion) และเสือ (tiger) ซึ่งสามารถผสมพันธุ์ข้ามสายพันธุ์ ได้ลูกผสมออกมา เรียกว่า liger (ถ้าพ่อพันธุ์เป็นสิงโต แม่พันธุ์เป็นเสือ) หรือ tigon (ถ้าพ่อพันธุ์เป็นเสือ แม่พันธุ์เป็นสิงโต)\n",
    "คุณรู้สึกทึ่งในการนำชื่อของพ่อพันธุ์ และแม่พันธุ์ มาตั้งชื่อลูกผสม จึงสังเกตและตั้งกฎการตั้งชื่อของลูกผสมแบบหนึ่งขึ้นมา ดังนี้\n",
    "“นำชื่อพ่อพันธุ์ส่วนที่อยู่ก่อนสระตัวที่สอง มาผสมกับชื่อของแม่พันธุ์ส่วนที่อยู่หลังสระตัวแรก”\n",
    "กฎที่ตั้งขึ้นนี้ เข้ากันได้กับ tigon และ liger พอดี เนื่องจาก\n",
    "tiger + lion = tigon\n",
    "lion + tiger = liger\n",
    "หากบางชื่อไม่สามารถหาส่วนที่อยู่ก่อนสระตัวที่สอง หรือส่วนที่อยู่หลังสระตัวแรกได้ จะใช้ชื่อเดิมไปเป็นส่วนประกอบของลูกผสม\n",
    "เนื่องจากคุณเป็นโปรแกรมเมอร์ คุณจึงนำกฎนี้ไปเขียนโปรแกรมเพื่อหาชื่อของลูกผสม\n",
    "\n",
    "ข้อมูลเข้า\n",
    "บรรทัดแรก ชื่อของพ่อพันธุ์\n",
    "บรรทัดที่สอง ชื่อของแม่พันธุ์\n",
    "\n",
    "ข้อมูลออก\n",
    "บรรทัดเดียว แสดงคำตอบ 1 บรรทัด ซึ่งเป็นชื่อของลูกผสม ตามกฎการตั้งชื่อดังกล่าว "
   ]
  },
  {
   "cell_type": "code",
   "execution_count": null,
   "metadata": {},
   "outputs": [],
   "source": [
    "name = [input(), input()]\n",
    "mixd, vwel, prnt = \"\", \"aeiou\", 1\n",
    "\n",
    "if name[0] and name[1]:\n",
    "    for i in name:\n",
    "        i = i.lower()\n",
    "        if ord(i[0]) not in range(97, 123):\n",
    "            prnt = 0\n",
    "            break\n",
    "        if len(i) < 3 or vowels(i, 1, 0) < 2:\n",
    "            mixd += i\n",
    "            continue\n",
    "        vwno = 0\n",
    "        indx = 0\n",
    "        adde = i\n",
    "        for j in i:\n",
    "            if name.index(i) == 1 and vwno == 1 and len(i[indx + 1:]) > 0:\n",
    "                adde = i[indx:]\n",
    "                break\n",
    "            elif name.index(i) == 0 and vwno == 2 and len(i[:indx]) > 0:\n",
    "                adde = i[:indx - 1]\n",
    "                break\n",
    "            if vowels(j, 0, 1):\n",
    "                vwno += 1\n",
    "            indx += 1\n",
    "        mixd += adde\n",
    "if prnt:\n",
    "    print(mixd)"
   ]
  },
  {
   "cell_type": "code",
   "execution_count": 7,
   "metadata": {},
   "outputs": [
    {
     "name": "stdout",
     "output_type": "stream",
     "text": [
      "a\n",
      "a\n",
      "1 -1\n"
     ]
    }
   ],
   "source": [
    "name = [input(), input()]; vowels = \"aAeEiIoOuU\"; found01 = \"\"; found02 = \"\"\n",
    "\n",
    "if \n",
    "for i in vowels:\n",
    "    if not found01:\n",
    "        print(i)\n",
    "        found01 = name[0].find(i)\n",
    "    if not found02:\n",
    "        print(i)\n",
    "        found02 = name[1].rfind(i)\n",
    "    if found01 and found02:\n",
    "        break\n",
    "\n",
    "print(found01, found02)"
   ]
  },
  {
   "cell_type": "markdown",
   "metadata": {},
   "source": [
    "Major Scale\n",
    "บันไดเสียง Major Scale เป็นการจัดเรียงกลุ่มของตัวโน้ตที่เรียงกันเป็นลำดับขั้น ตามระดับของเสียงอย่างมีรูปแบบ มีเสียงห่างกันเป็นที่แน่นอน ซึ่งชุดบันไดเสียง Major Scale 1 ชุด ประกอบด้วยตัวโน้ต 8 ตัว เช่น\n",
    "ชุดบันไดเสียง C Major ประกอบด้วย C, D, E, F, G, A, B, C (โด, เร, มี, ฟา, ซอล, ลา, ที, โด)\n",
    "ชุดบันไดเสียง D Major ประกอบด้วย D, E, F#, G, A, B, C#, D (เร, มี, ฟาชาร์ป, ซอล, ลา, ที, โดชาร์ป, เร) เป็นต้น\n",
    "สังเกตว่า โน้ตตัวแรกกับตัวสุดท้ายของชุดบันไดเสียงเป็นโน้ตเดียวกัน แต่มีเสียงสูงขึ้น หรือต่ำลงมา 8 ขั้น\n",
    "ถ้าหน้ากากอินโทร (นักร้องคนหนึ่ง) เรียงโน้ตของบันไดเสียง C Major ไปเรื่อย ๆ จะได้ชุดตัวโน้ต C, D, E, F, G, A, B, C, D, E, F, G, A, B, C, … นั่นคือ โน้ตตัวที่ 12 จะเป็นโน้ต G หรือเรียงโน้ตของบันไดเสียง D Major ไปเรื่อย ๆ จะได้ชุดตัวโน้ต D, E, F#, G, A, B, C#, D, E, F#, G, A, B, C#, D, … ซึ่งจะได้โน้ตตัวที่ 14 คือ โน้ต C# และหน้ากากอินโทรบอกได้ว่าโน้ต 8 ตัว ในชุดบันไดเสียง Major Scale แบบต่าง ๆ มีตัวโน้ตอะไรบ้าง แต่ต้องการทราบว่าถ้าเรียงลำดับตัวโน้ตต่อไปเรื่อย ๆ ตัวที่ N จะเป็นโน้ตอะไร เนื่องจากคุณเป็นโปรแกรมเมอร์ คุณจะต้องช่วยหน้ากากอินโทรหาตัวโน้ตลำดับที่ N ในชุดบันไดเสียงที่กำหนด\n",
    "ข้อมูลเข้า\n",
    "บรรทัดแรก เป็นชุดตัวโน้ต 8 ตัวแรก ของบันไดเสียง Major Scale ชุดหนึ่ง คั่นด้วย comma (,)\n",
    "บรรทัดที่สอง เป็นจำนวนเต็มบวก N แทนลำดับที่ของตัวโน้ตที่ต้องการหา เมื่อเรียงโน้ตของบันไดเสียง Major Scale\n",
    "ข้อมูลออก\n",
    "บรรทัดเดียว แสดงคำตอบ 1 บรรทัด ซึ่งเป็นโน้ตลำดับที่ N เมื่อเรียงโน้ตของบันไดเสียง Major Scale "
   ]
  },
  {
   "cell_type": "code",
   "execution_count": 54,
   "metadata": {},
   "outputs": [
    {
     "name": "stdout",
     "output_type": "stream",
     "text": [
      "['D', 'E', 'F#', 'G', 'A', 'B', 'C#']\n",
      "C#\n"
     ]
    }
   ],
   "source": [
    "request = [input(), int(input())]\n",
    "(piece, index, grocr, add) = (request[0][0], (request[1] % 7) - 1, [], \"\")\n",
    "for i in request[0]:\n",
    "    if i != \",\":\n",
    "        add += i\n",
    "    else:\n",
    "        grocr.append(add)\n",
    "        add = \"\"\n",
    "print(grocr[index])"
   ]
  },
  {
   "cell_type": "markdown",
   "metadata": {},
   "source": [
    "ฉลาดเกมส์โกง\n",
    "\n",
    "คุณรู้สึกว่าการทำข้อสอบเป็นเรื่องยาก จึงเริ่มคิดแผนการส่งคำตอบผ่านชุดข้อความหนึ่งที่มีการเข้ารหัสในแบบที่ไม่ให้ผู้คุมสอบรู้\n",
    "\n",
    "แต่คุณก็ยังชะล่าใจจนถึงก่อนวันสอบหนึ่งวัน คุณจึงปรึกษามิสเตอร์จีเนียสและคิดวิธีง่าย ๆ ที่จะเข้ารหัสข้อความดังนี้\n",
    "\n",
    "    คุณและมิสเตอร์จีเนียสตกลง \"ข้อความต้นฉบับ\" ซึ่งเป็นข้อความสำหรับสร้างรหัส\n",
    "    คุณและมิสเตอร์จีเนียสตกลง \"รหัสต้นฉบับ\" ซึ่งเป็นรหัสที่สอดคล้องกับข้อความต้นฉบับ\n",
    "    คุณส่งคำถามให้มิสเตอร์จีเนียส โดยอาศัยข้อความต้นฉบับและรหัสต้นฉบับเป็นแม่แบบในการเข้ารหัส\n",
    "    มิสเตอร์จีเนียสถอดรหัสจากคำถามของคุณ แล้วส่งคำตอบมาให้คุณโดยใช้หลักการเดียวกันในการเข้ารหัส\n",
    "    คุณได้คำตอบจากมิสเตอร์จีเนียส คุณต้องถอดรหัส\n",
    "\n",
    "หลักการเข้ารหัส\n",
    "\n",
    "จากข้อความต้นฉบับ จะต้องนำช่องว่าง และตัวอักษรที่ซ้ำกันออกก่อน แล้วเทียบกับรหัสต้นฉบับแบบตัวต่อตัว จะได้วิธีการแปลงอักษร (รหัสต้นฉบับจะไม่มีช่องว่าง และไม่มีตัวอักษรซ้ำ) เช่น\n",
    "\n",
    "    ถ้าข้อความต้นฉบับเป็น \"bad genius\" และรหัสต้นฉบับเป็น \"source120\"\n",
    "    จะได้การเข้ารหัสว่า 'b' เข้ารหัสเป็น 's', 'a' เข้ารหัสเป็น 'o', 'd' เข้ารหัสเป็น 'u', 'g' เข้ารหัสเป็น 'r', 'e' เข้ารหัสเป็น 'c', 'n' เข้ารหัสเป็น 'e', 'i' เข้ารหัสเป็น '1', 'u' เข้ารหัสเป็น '2' และ 's' เข้ารหัสเป็น '0' ตามลำดับ\n",
    "    ถ้าข้อความต้นฉบับเป็น \"the system32\" และรหัสต้นฉบับเป็น \"abcdefgh\"\n",
    "    จะได้การเข้ารหัสว่า 't' เข้ารหัสเป็น 'a', 'h' เข้ารหัสเป็น 'b', 'e' เข้ารหัสเป็น 'c', 's' เข้ารหัสเป็น 'd', 'y' เข้ารหัสเป็น 'e', 'm' เข้ารหัสเป็น 'f', '3' เข้ารหัสเป็น 'g' และ '2' เข้ารหัสเป็น 'h' ตามลำดับ\n",
    "\n",
    "หลักการถอดรหัส\n",
    "\n",
    "จากหลักการเข้ารหัส วิธีถอดรหัสจะใช้การแปลงตัวอักษรย้อนกลับ เช่น ถ้า 'b' เข้ารหัสเป็น 's' จะได้ว่า 's' ถอดรหัสเป็น 'b'\n",
    "\n",
    "    ถ้าข้อความต้นฉบับเป็น \"bad genius\" และรหัสต้นฉบับเป็น \"source120\"\n",
    "    ถ้าถอดรหัส \"source\" จะได้ข้อความว่า \"badgen\"\n",
    "    หรือถอดรหัส \"soeoeo\" จะได้ข้อความว่า \"banana\"\n",
    "    กรณีที่ในข้อความที่ต้องการถอดรหัสมีตัวอักษรอื่นที่ไม่อยู่ในรหัสต้นฉบับ ให้คงตัวอักษรนั้นไว้ เช่น\n",
    "    ถ้าข้อความต้นฉบับเป็น \"bad genius\" และรหัสต้นฉบับเป็น \"source120\"\n",
    "    เมื่อถอดรหัส \"h10 sor\" จะได้ข้อความว่า \"his bag\"\n",
    "\n",
    "เนื่องจากคุณเป็นโปรแกรมเมอร์ คุณจึงเขียนโปรแกรมเพื่อถอดรหัสข้อความที่มิสเตอร์จีเนียสส่งกลับมาให้คุณ\n",
    "\n",
    "ข้อมูลเข้า มีสามบรรทัด\n",
    "\n",
    "    บรรทัดแรก รับข้อความต้นฉบับ\n",
    "    บรรทัดที่สอง รับรหัสต้นฉบับ ซึ่งไม่มีตัวอักษรซ้ำ ไม่มีช่องว่าง และมีจำนวนตัวอักษรที่พอดีกับการเข้ารหัส\n",
    "    บรรทัดที่สาม รับข้อความที่ต้องการถอดรหัส\n",
    "\n",
    "ข้อมูลออก\n",
    "\n",
    "    มีบรรทัดเดียว แสดงคำตอบเป็นข้อความที่ถูกถอดรหัสแล้ว"
   ]
  },
  {
   "cell_type": "code",
   "execution_count": null,
   "metadata": {},
   "outputs": [],
   "source": [
    "source = [input(), input(), input()]\n",
    "(draft, template, raw) = (source[0], source[1], source[2])\n",
    "\n",
    "drf = \"\"\n",
    "for i in draft:\n",
    "    if i != \" \" and i not in drf:\n",
    "        drf += i\n",
    "\n",
    "tem = \"\"\n",
    "for i in template:\n",
    "    if i != \" \" and i not in tem:\n",
    "        tem += i\n",
    "\n",
    "decrp = \"\"\n",
    "for i in raw:\n",
    "    if i in tem:\n",
    "        index = tem.index(i)\n",
    "        decrp += drf[index]\n",
    "    else:\n",
    "        decrp += i\n",
    "\n",
    "print(decrp)"
   ]
  },
  {
   "cell_type": "markdown",
   "metadata": {},
   "source": [
    "Abecedarian\n",
    "\n",
    "A word is said to be “abecedarian” if the letters in the word appear in alphabetical order.\n",
    "\n",
    "For example, the following are all 6-letter English abecedarian words.\n",
    "\n",
    "abdest, acknow, acorsy, adempt, adipsy, agnosy, befist, behint, beknow, bijoux, biopsy, cestuy, chintz, deflux, dehors, dehort, deinos, diluvy, dimpsy\n",
    "\n",
    "Write the program that input an English word. And find n-th first characters that still be Abecedarian, print that n."
   ]
  },
  {
   "cell_type": "code",
   "execution_count": 47,
   "metadata": {},
   "outputs": [
    {
     "name": "stdout",
     "output_type": "stream",
     "text": [
      "a\n",
      "1\n"
     ]
    }
   ],
   "source": [
    "word, carr, refn = input().lower(), \"a\", \"\"\n",
    "\n",
    "if len(word) > 1:\n",
    "    for i in word:\n",
    "        if ord(i) not in range(97, 123):\n",
    "            refn = \"\"\n",
    "            break\n",
    "        if ord(i) in range(97, 123) and ord(i) >= ord(carr) and i not in refn:\n",
    "            refn += i\n",
    "            carr = i\n",
    "        else:\n",
    "            break\n",
    "\n",
    "print(len(refn))"
   ]
  },
  {
   "cell_type": "markdown",
   "metadata": {},
   "source": [
    "หมุนสายอักขระ\n",
    "\n",
    "ให้นิสิตเขียนโปรแกรมรับสายอักขระ (string) และเลขจำนวนเต็ม จากนั้นพิมพ์สายอักขระที่ถูกหมุนตัวอักขระไปตามเลขจำนวนเต็มนั้น ถ้าเลขจำนวนเต็มเป็นบวกให้หมุนสายอักขระไปทางขวา แต่ถ้าเป็นลบให้หมุนสายอักขระไปทางซ้าย ถ้าจำนวนเต็มเป็นศูนย์ก็ไม่ต้องหมุน"
   ]
  },
  {
   "cell_type": "code",
   "execution_count": null,
   "metadata": {},
   "outputs": [],
   "source": [
    "phrase, rotate = input(), int(input())\n",
    "\n",
    "if rotate and len(phrase):\n",
    "    if abs(rotate) > len(phrase):\n",
    "        rotate %= len(phrase)\n",
    "    if rotate * -1 < 0:\n",
    "        comple = len(phrase) - rotate\n",
    "        print(phrase[-rotate:] + phrase[:comple])\n",
    "    else:\n",
    "        rotate *= -1\n",
    "        comple = rotate\n",
    "        print(phrase[rotate:] + phrase[:comple])\n",
    "else:\n",
    "    print(phrase)"
   ]
  },
  {
   "cell_type": "markdown",
   "metadata": {},
   "source": [
    "Labsident Evil\n",
    "ระหว่างที่คุณกำลังเขียนโปรแกรมด้วยภาษา Python อยู่ จิตใจคุณก็ล่องลอยไปนึกถึงเกมหนึ่ง ที่เป็นเกมการใช้ปืนยิงซอมบี้ทีละตัว คุณเริ่มจำลองเกมนี้โดยกำหนดให้เกมมีข้อกำหนดดังนี้\n",
    "\n",
    "    การยิงกระสุนแต่ละนัดจะสร้างค่าความเสียหายให้กับซอมบี้ 1 ตัว เท่านั้น\n",
    "    กระสุนแต่ละนัดสร้างความเสียหายให้กับซอมบี้เท่ากันทุกนัด\n",
    "    ต้องยิงซอมบี้ตัวแรกที่พบจนกว่าจะตายก่อน ทันทีที่ซอมบี้ตัวหนึ่งตาย จะต้องยิงซอมบี้ตัวถัดไปทันที\n",
    "    ถ้าซอมบี้มีค่าพลังชีวิต 25 หน่วย และกระสุนสร้างความเสียหายให้กับซอมบี้ 10 หน่วย ซอมบี้ตัวนี้จะตายด้วยกระสุนนัดที่ 3\n",
    "    สมมติว่าการยิงกระสุนแต่ละนัดไม่ใช่การยิงที่เปล่าประโยชน์\n",
    "\n",
    "เกมนี้มีกระสุนปืนจำกัดเพราะแต่ละนัดนั้นแพงมาก แต่คุณเป็นเกมเมอร์ที่มีความแม่นยำในการยิงปืนสูงมาก คุณจึงได้เปรียบในการคำนวณจำนวนกระสุนปืนที่จะต้องใช้\n",
    "เนื่องจากคุณเป็นโปรแกรมเมอร์ คุณจึงจะเขียนเกมจำลองการยิงซอมบี้ตามข้อกำหนดดังกล่าว\n",
    "ข้อมูลเข้า\n",
    "บรรทัดแรก เป็นจำนวนเต็มบวกแทนค่าความเสียหายของกระสุน 1 นัด ที่มีผลต่อซอมบี้ 1 ตัว\n",
    "บรรทัดที่สอง ระบุค่าพลังชีวิตของซอมบี้ Z ตัว (Z > 0) ค่าพลังชีวิตเป็นจำนวนเต็มบวก คั่นด้วยเว้นวรรค\n",
    "ข้อมูลออก\n",
    "บรรทัดแรก แสดงจำนวนกระสุนทั้งหมดที่ใช้ยิงซอมบี้ จนตายทุกตัว\n",
    "บรรทัดที่สอง แสดงคำตอบ 1 บรรทัด ระบุว่าซอมบี้แต่ละตัวจะตายในกระสุนนัดที่เท่าไหร่ คั่นด้วยเว้นวรรค\n",
    "\n",
    "ข้อมูลเข้า \tข้อมูลออก\n",
    "3\n",
    "3 6 3 12 63 3 \t30\n",
    "1 3 4 8 29 30\n",
    "10\n",
    "25 92 64 \t20\n",
    "3 13 20\n",
    "50\n",
    "50 32 194 225 \t11\n",
    "1 2 6 11"
   ]
  },
  {
   "cell_type": "code",
   "execution_count": 35,
   "metadata": {},
   "outputs": [
    {
     "name": "stdout",
     "output_type": "stream",
     "text": [
      "11\n",
      "1 2 6 11\n"
     ]
    }
   ],
   "source": [
    "time = 1; killedAt = []\n",
    "effi = int(input())\n",
    "targ = [int(i) for i in input().strip().split(\" \")]\n",
    "\n",
    "for zmb in targ:\n",
    "    killed = False\n",
    "    bull = effi\n",
    "    while not killed:\n",
    "        if bull >= zmb:\n",
    "            killedAt.append(str(time))\n",
    "            killed = True\n",
    "        else:\n",
    "            bull += effi\n",
    "            time += 1\n",
    "    time += 1\n",
    "\n",
    "print(\"{}\\n{}\".format(killedAt[-1], \" \".join(killedAt), sep=\"\\n\"))"
   ]
  },
  {
   "cell_type": "markdown",
   "metadata": {},
   "source": [
    "# 08 Two closest numbers\n",
    "\n",
    "<p>จงเขียนโปรแกรมเพื่อรับข้อมูลจำนวน n+1 บรรทัด บรรทัดแรกเป็นจำนวนเต็ม n และอีก n บรรทัดถัดมาเป็นจำนวนเต็มที่มีค่ามากกว่าศูนย์และมีค่าไม่ซ้ำกัน บรรทัดละ 1 ค่า แล้วแสดงผลจำนวนเต็ม 2 จำนวนที่มีค่าใกล้กันที่สุด โดยแสดงจำนวนที่น้อยกว่าก่อน คั่นด้วยเว้นวรรค หากมีหลายชุดจำนวน ให้แสดงทีละบรรทัด</p>"
   ]
  },
  {
   "cell_type": "code",
   "execution_count": 85,
   "metadata": {},
   "outputs": [
    {
     "name": "stdout",
     "output_type": "stream",
     "text": [
      "lwst = 3\n",
      "3 6\n",
      "6 9\n"
     ]
    }
   ],
   "source": [
    "inLine = []\n",
    "lineIn = int(input())\n",
    "while len(inLine) < lineIn: inLine.append(int(input()))\n",
    "asc = dict(enumerate(sorted(inLine)))\n",
    "lwst = asc[len(inLine)-1] - asc[0]\n",
    "for key0 in asc:\n",
    "    for key1 in asc:\n",
    "        dif = asc[key1] - asc[key0]\n",
    "        if key0 != key1 and key1 > key0:\n",
    "            if dif == 0:\n",
    "                lwst = 0\n",
    "                break\n",
    "            elif dif < lwst:\n",
    "                lwst = dif\n",
    "\n",
    "toPrint = [f\"{i} {j}\" for i in asc.values() for j in sorted(inLine)[1:] if j - i == lwst]\n",
    "print(*toPrint, sep=\"\\n\")"
   ]
  },
  {
   "cell_type": "markdown",
   "metadata": {},
   "source": [
    "# 09 Majority Element"
   ]
  },
  {
   "cell_type": "code",
   "execution_count": 99,
   "metadata": {},
   "outputs": [
    {
     "name": "stdout",
     "output_type": "stream",
     "text": [
      "a\n"
     ]
    }
   ],
   "source": [
    "lineIn = int(input())\n",
    "inLine = []\n",
    "while len(inLine) < lineIn: inLine.append(input())\n",
    "comb = dict.fromkeys(inLine, 0)\n",
    "for i in comb:\n",
    "    for j in inLine:\n",
    "        if i == j:\n",
    "            comb[i] += 1\n",
    "\n",
    "mx = max(comb.values())\n",
    "if mx > lineIn / 2:\n",
    "    print(*[key for key, value in comb.items() if value == mx])\n",
    "else:\n",
    "    print(0)"
   ]
  },
  {
   "cell_type": "markdown",
   "metadata": {},
   "source": [
    "# 10 Blackjack (Hard)"
   ]
  },
  {
   "cell_type": "code",
   "execution_count": 191,
   "metadata": {},
   "outputs": [
    {
     "name": "stdout",
     "output_type": "stream",
     "text": [
      "K\n",
      "busted\n"
     ]
    }
   ],
   "source": [
    "board = {\n",
    "    \"A\": [1, 1],\n",
    "    \"J\": [10, 11],\n",
    "    \"Q\": [10, 12],\n",
    "    \"K\": [13, 13]\n",
    "}\n",
    "for i in range(2, 11):\n",
    "    board[str(i)] = [i, i]\n",
    "\n",
    "turns = []\n",
    "marks = 0\n",
    "line = input().split(\" \")\n",
    "line = [i for i in line if i != \"\" and i in board]\n",
    "if len(line) == 5:\n",
    "    ignore = False\n",
    "    picked = []\n",
    "\n",
    "    for card in line:\n",
    "        if not ignore:\n",
    "            picked.append(card)\n",
    "            marks += board[card][0]\n",
    "            if marks > 21:\n",
    "                marks = -1\n",
    "                ignore = True\n",
    "            elif marks > 16:\n",
    "                ignore = True\n",
    "    if marks == -1:\n",
    "        marks = \"busted\"\n",
    "    print(max(picked, key=lambda card: board[card][1]), marks, sep=\"\\n\")"
   ]
  },
  {
   "cell_type": "markdown",
   "metadata": {},
   "source": [
    "# 11 เกมอ่านใจ (ส่วนเช็คคำตอบ)"
   ]
  },
  {
   "cell_type": "code",
   "execution_count": null,
   "metadata": {},
   "outputs": [],
   "source": []
  }
 ],
 "metadata": {
  "interpreter": {
   "hash": "aee8b7b246df8f9039afb4144a1f6fd8d2ca17a180786b69acc140d282b71a49"
  },
  "kernelspec": {
   "display_name": "Python 3.10.0 64-bit",
   "name": "python3"
  },
  "language_info": {
   "codemirror_mode": {
    "name": "ipython",
    "version": 3
   },
   "file_extension": ".py",
   "mimetype": "text/x-python",
   "name": "python",
   "nbconvert_exporter": "python",
   "pygments_lexer": "ipython3",
   "version": "3.10.0"
  },
  "orig_nbformat": 4
 },
 "nbformat": 4,
 "nbformat_minor": 2
}
