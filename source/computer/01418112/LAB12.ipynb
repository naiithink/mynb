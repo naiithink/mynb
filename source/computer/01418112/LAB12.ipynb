{
 "cells": [
  {
   "cell_type": "code",
   "execution_count": 1,
   "metadata": {},
   "outputs": [
    {
     "name": "stdout",
     "output_type": "stream",
     "text": [
      "end with = 10\n",
      "0\n",
      "11\n"
     ]
    }
   ],
   "source": [
    "s = \" helloworld\"\n",
    "print(\"end with =\", len(s) - 1)\n",
    "print(s.find(\"\"))\n",
    "print(s.rfind(\"\"))"
   ]
  },
  {
   "cell_type": "code",
   "execution_count": null,
   "metadata": {},
   "outputs": [
    {
     "name": "stdout",
     "output_type": "stream",
     "text": [
      "k\n"
     ]
    }
   ],
   "source": [
    "list = []\n",
    "while True:\n",
    "    string = input()\n",
    "    if not string:\n",
    "        break\n",
    "    list.append(string)\n",
    "print(max(list))"
   ]
  },
  {
   "cell_type": "code",
   "execution_count": null,
   "metadata": {},
   "outputs": [
    {
     "name": "stdout",
     "output_type": "stream",
     "text": [
      "1\n"
     ]
    }
   ],
   "source": [
    "list = []\n",
    "while True:\n",
    "    string = input()\n",
    "    if not string:\n",
    "        break\n",
    "    list += string\n",
    "most = max(list)\n",
    "print(len(most))"
   ]
  },
  {
   "cell_type": "code",
   "execution_count": null,
   "metadata": {},
   "outputs": [
    {
     "name": "stdout",
     "output_type": "stream",
     "text": [
      "2\n"
     ]
    }
   ],
   "source": [
    "most = \"\"\n",
    "while True:\n",
    "    string = input()\n",
    "    if not string:\n",
    "        break\n",
    "    if len(string) > len(most):\n",
    "        most = string\n",
    "print(len(most))"
   ]
  },
  {
   "cell_type": "code",
   "execution_count": null,
   "metadata": {},
   "outputs": [
    {
     "name": "stdout",
     "output_type": "stream",
     "text": [
      "b\n"
     ]
    }
   ],
   "source": [
    "char = input(), int(input())\n",
    "print(chr(ord(char[0]) + char[1]))"
   ]
  },
  {
   "cell_type": "code",
   "execution_count": null,
   "metadata": {},
   "outputs": [
    {
     "name": "stdout",
     "output_type": "stream",
     "text": [
      "z4XD\n"
     ]
    }
   ],
   "source": [
    "out, shift = \"\", False\n",
    "\n",
    "while True:\n",
    "    string = list(input())\n",
    "    if not string:\n",
    "        break\n",
    "    if not shift:\n",
    "        out += max(string)\n",
    "    elif shift:\n",
    "        out += min(string)\n",
    "    shift = not shift\n",
    "\n",
    "print(out)"
   ]
  },
  {
   "cell_type": "code",
   "execution_count": null,
   "metadata": {},
   "outputs": [
    {
     "name": "stdout",
     "output_type": "stream",
     "text": [
      "3\n",
      "1\n"
     ]
    }
   ],
   "source": [
    "string, lower, upper = input(), 0, 0\n",
    "for i in string:\n",
    "    if i.islower():\n",
    "        lower += 1\n",
    "    else:\n",
    "        upper += 1\n",
    "print(lower, upper, sep=\"\\n\")"
   ]
  },
  {
   "cell_type": "code",
   "execution_count": null,
   "metadata": {},
   "outputs": [
    {
     "name": "stdout",
     "output_type": "stream",
     "text": [
      "hELlO\n"
     ]
    }
   ],
   "source": [
    "string = input()\n",
    "print(string.swapcase())"
   ]
  },
  {
   "cell_type": "code",
   "execution_count": null,
   "metadata": {},
   "outputs": [
    {
     "name": "stdout",
     "output_type": "stream",
     "text": [
      "5\n",
      "2\n",
      "Hey, COMe on get my COMputer.\n"
     ]
    }
   ],
   "source": [
    "phrase, pop, push = input(), input(), input()\n",
    "print(phrase.index(pop[0]), phrase.count(pop), phrase.replace(pop, push), sep=\"\\n\")"
   ]
  },
  {
   "cell_type": "markdown",
   "metadata": {},
   "source": [
    "## PB01 ##\n",
    "\n",
    "![PB01](https://sn3302files.storage.live.com/y4m31Wd17Jo1XDr4uAyKlaxeaGEO_u8u79m75tmSPhXgfMx79Ox68xw55jeeFj9zYI6HI9UvJ505DtdFyxILy2SYG6dsZ5eTcBEvKWrOJetPYpDhEhg9bJyy7MyuV5Wmp6vH0lKfCig3P5tc8xgl74Z94d35PsucLqpvlrkZwdHedy5P7jxN-y_l10FeRPLSSAU?width=1106&height=554&cropmode=none)"
   ]
  },
  {
   "cell_type": "code",
   "execution_count": null,
   "metadata": {},
   "outputs": [],
   "source": [
    "# Groupwork\n",
    "s = input().lower()\n",
    "for i in s:\n",
    "    if i == \"a\":\n",
    "        print(\"A\", end=\"\")\n",
    "    elif i == \"e\":\n",
    "        print(\"E\", end=\"\")\n",
    "    elif i == \"i\":\n",
    "        print(\"I\", end=\"\")\n",
    "    elif i == \"o\":\n",
    "        print(\"O\", end=\"\")\n",
    "    elif i == \"u\":\n",
    "        print(\"U\", end=\"\")\n",
    "    else:\n",
    "        print(i, end=\"\")"
   ]
  },
  {
   "cell_type": "markdown",
   "metadata": {},
   "source": [
    "## PB02 ##\n",
    "\n",
    "![PB02](https://sn3302files.storage.live.com/y4mPu1VI2U7UIvYZ6beI6NMpnjdqLnRqyQlDUZCoEMpAGYxR0l3O9PM3LdiyUhzMa1CDs-ILYi1V4Oc0EuGdb0SMcGQnnvNQ2-2g6XXsi2KUqUg1lXQjrptEdL1L7spHiuERkcR-qDaHZWJiX9Jh3jc2FqT2Ukeq1SxIPG_L_Y3TrXz4JlwA3m7grstRls2aZHx?width=1106&height=638&cropmode=none)\n"
   ]
  },
  {
   "cell_type": "code",
   "execution_count": null,
   "metadata": {},
   "outputs": [],
   "source": [
    "data, out, clct = list(input()), \"\", \"\"\n",
    "data += \",\"\n",
    "for i in data:\n",
    "    for j in i:\n",
    "        if j != \",\":\n",
    "            clct += j\n",
    "            continue\n",
    "        out += \"\\\"%s\\\",\" % clct.strip(\" \")\n",
    "        clct = \"\"\n",
    "\n",
    "print(out[:-1])"
   ]
  },
  {
   "cell_type": "markdown",
   "metadata": {},
   "source": [
    "## PB03 ##\n",
    "\n",
    "![PB03](https://sn3302files.storage.live.com/y4mbsf13MNn4SUPtrOnS62dMkEa0Zfal1Sd-FKCQibtFvXNPJMydZTpyuDB80FmCafJ7CHm5z-G-i16NyFtDmx71SiBe3FjNI5KPgLm-awljojW7S-LKkliyJdomaRNd-YCbp4wAzKEY148WI5B5JA8uSvPhJjL__qCrbvmJmflS2YeOUFDmTNcWXaLRgZIvjvD?width=1262&height=916&cropmode=none)"
   ]
  },
  {
   "cell_type": "code",
   "execution_count": 1,
   "metadata": {},
   "outputs": [
    {
     "name": "stdout",
     "output_type": "stream",
     "text": [
      "              x = abseqwd =dasdasasd\n",
      "asdasdasfqwdasd = asdqawdxascasda  =asd\n"
     ]
    }
   ],
   "source": [
    "list, bggs = [], 0\n",
    "while True:\n",
    "    line = input()\n",
    "    if line == \"-1\":\n",
    "        break\n",
    "    brk = \"\"\n",
    "    for i in line:\n",
    "        if i != \"=\":\n",
    "            brk += i\n",
    "            continue\n",
    "        list.append([brk.strip(), line[line.index(\"=\") + 1:].strip()])\n",
    "        if len((brk.strip())) > bggs:\n",
    "            bggs = len((brk.strip()))\n",
    "        break\n",
    "\n",
    "for i in list:\n",
    "    print(\"{:>{}} = {}\".format(i[0], bggs, i[1]))"
   ]
  },
  {
   "cell_type": "markdown",
   "metadata": {},
   "source": [
    "## PB04 ##\n",
    "\n",
    "![PB04](https://sn3302files.storage.live.com/y4mnjjI7SYJlS2nvgUf_TmxbxPcn1Ih0OQ5ojom9fsfWEjNiCWnYS3KyyPKdemoMW582vyvHouRasY4PgpJVfncj3SceYg60Srj21_YCLos7vvjnpCrIdGs-7ALmdcEDlDz5ecRSmxoXxdckrFeZNRSk4LVC2mUl1y5NMFrEUcaeEQliwloiVfe-n22itvNV484?width=1262&height=1116&cropmode=none)"
   ]
  },
  {
   "cell_type": "code",
   "execution_count": 1,
   "metadata": {},
   "outputs": [],
   "source": [
    "tovalidate, name, extn, phase, include = input(), \"\", \"\", 0, \".\"\n",
    "\n",
    "if tovalidate:\n",
    "    for i in tovalidate[::-1]:\n",
    "        if tovalidate.count(\".\"):\n",
    "            if not phase and i != \".\":\n",
    "                if i in \"\\/*:|\\\"<> \":\n",
    "                    i = \"_\"\n",
    "                extn += i\n",
    "            elif not phase:\n",
    "                phase += 1\n",
    "                continue\n",
    "        else:\n",
    "            include = \"\"\n",
    "            phase += 1\n",
    "        if phase:\n",
    "            if i in \".\\/*:|\\\"<> \":\n",
    "                i = \"_\"\n",
    "            name += i\n",
    "\n",
    "    name = name[::-1]; extn = extn[::-1]\n",
    "    if len(name) > 15:\n",
    "        name = name[:15]\n",
    "    if len(extn) > 3:\n",
    "        extn = extn[:3]\n",
    "    print(\"%s%s%s\" % (name, include, extn))"
   ]
  },
  {
   "cell_type": "markdown",
   "metadata": {},
   "source": [
    "## PB05 ##\n",
    "\n",
    "![PB05](https://sn3302files.storage.live.com/y4mKHDQYw4IpexYQJfaypJ41VZGGAn7Fh7WPvWqfkR5lbbAb_x0S-mXj_BLQiebkuu07QeHKYoMbnJbaY_MSK3AaFjmZP7QDbh32smsaqB3SyVa4xwZ1VaacjNhAL_TXcpDd2eesNAc8nNSuzilMkwuh0sWIrfE8A3mLpn87gKhSKxVg9nQ8n3Q9ikKmMCQNpSw?width=1262&height=1494&cropmode=none)"
   ]
  },
  {
   "cell_type": "code",
   "execution_count": null,
   "metadata": {},
   "outputs": [
    {
     "name": "stdout",
     "output_type": "stream",
     "text": [
      "t-e-o---e--t--o--\n"
     ]
    }
   ],
   "source": [
    "target = input()\n",
    "\n",
    "while True:\n",
    "    guess = input()\n",
    "    if guess == \"0\":\n",
    "        break\n",
    "    target = target.replace(guess, guess.upper())\n",
    "for i in target:\n",
    "    if i.islower():\n",
    "        target = target.replace(i, \"-\")\n",
    "\n",
    "print(target.lower())"
   ]
  },
  {
   "cell_type": "markdown",
   "metadata": {},
   "source": [
    "## PB06 ##\n",
    "\n",
    "![PB06](https://sn3302files.storage.live.com/y4mHnccDiwPRR8Qi9y7JSEWS9hhWDs9A2rlE1sG-UPVaW-y5N_8HXDtkBYgEgWH8L8oBChN85T9dleYwUIgyKG6YSpJJPg0wA71KSKdKr7sKn9yw35TzN6XMykLUoS7qP2ad99YWgWstXtdou10VSwhVMVGZwZIkuSIFXcj26rZ4n_U12Ne3msPRJ3GHL6ylbTC?width=1262&height=1122&cropmode=none)"
   ]
  },
  {
   "cell_type": "code",
   "execution_count": 1,
   "metadata": {},
   "outputs": [
    {
     "name": "stdout",
     "output_type": "stream",
     "text": [
      "ERROR\n"
     ]
    }
   ],
   "source": [
    "def checkif(number):\n",
    "    if number[::-1].find(\".\") > 2:\n",
    "        return False\n",
    "    \n",
    "    if number.find(\",\") > 3:\n",
    "        return False\n",
    "\n",
    "    cir = 0\n",
    "    for i in number:\n",
    "        if i == \",\":\n",
    "            cir += 1\n",
    "        if not cir and i == \"0\":\n",
    "            return False\n",
    "\n",
    "    convertable = \"\"\n",
    "    for i in number[::-1]:\n",
    "        if number.count(\",\"):\n",
    "            if i != \",\":\n",
    "                convertable += i\n",
    "        else:\n",
    "            convertable = number[::-1]\n",
    "    while True:\n",
    "        try:\n",
    "            float(convertable[::-1])\n",
    "            break\n",
    "        except ValueError:\n",
    "            return False\n",
    "    integral = number[::-1]\n",
    "    if number.count(\".\"):\n",
    "        integral = number[(len(number) - number.rfind(\".\")) * -1 - 1::-1]\n",
    "    index = 0; commasep = []\n",
    "    for i in integral:\n",
    "        index += 1\n",
    "        if i == \",\":\n",
    "            commasep.append(index)\n",
    "    for i in commasep:\n",
    "        if i % 4:\n",
    "            return False\n",
    "\n",
    "    return True\n",
    "\n",
    "\n",
    "inp = input()\n",
    "\n",
    "if inp and inp[-1] != \".\" and inp[0] != \",\" and checkif(inp) and not inp.count(\" \"):\n",
    "    number = \"\"\n",
    "    for i in inp:\n",
    "        if i != \",\":\n",
    "            number += i\n",
    "    if float(number) > 0:\n",
    "        if number.count(\".\"):\n",
    "            precision = number[::-1].rfind(\".\")\n",
    "            result = (\"{:.{}f}\".format(float(number) + 1, precision))\n",
    "            print(str(result).zfill(len(number)))\n",
    "        else:\n",
    "            result = int(number) + 1\n",
    "            print(str(result).zfill(len(number)))\n",
    "    else:\n",
    "        print(\"ERROR\")\n",
    "else:\n",
    "    print(\"ERROR\")"
   ]
  },
  {
   "cell_type": "markdown",
   "metadata": {},
   "source": [
    "## PB07 ##\n",
    "\n",
    "![PB07](https://sn3302files.storage.live.com/y4mM-ooNQCy0ayY8NQlhVndiWr7oNUXH-RVE2gRnK0OHJt9IAkycIKG6ESXTOsc52A61eVIEBUkhGSS9kcrP3hvD0ijqRFLz_rXqNzIxfaD_wd3GQ-AW6Db7SRwM4u9nE_cpwiaCawdUb14Qo-QsvqGTpXWQM0lOePmTAsv8ska4Z4m-WKIRIV-dIY2Cr3DQ-Iz?width=1262&height=654&cropmode=none)"
   ]
  },
  {
   "cell_type": "code",
   "execution_count": 246,
   "metadata": {},
   "outputs": [
    {
     "name": "stdout",
     "output_type": "stream",
     "text": [
      ".gg\n",
      "gg\n"
     ]
    }
   ],
   "source": [
    "def camel(phrase):\n",
    "    begin = 0; product = \"\"\n",
    "    for i in phrase:\n",
    "        if i in \"-_=.$\" and product:\n",
    "            begin = 1\n",
    "            continue\n",
    "        if begin:\n",
    "            product += i.upper()\n",
    "            begin = 0\n",
    "            continue\n",
    "        elif i not in \"-_=.$\":\n",
    "            product += i.lower()\n",
    "            \n",
    "    return product\n",
    "\n",
    "phrase = input()\n",
    "print(camel(phrase))"
   ]
  },
  {
   "cell_type": "code",
   "execution_count": 40,
   "metadata": {},
   "outputs": [
    {
     "name": "stdout",
     "output_type": "stream",
     "text": [
      "\"\",\"\",\"\",\"\",\"\",\"\",\"\""
     ]
    }
   ],
   "source": [
    "x = input(); ls = []; member = \"\"; indx = 0\n",
    "for i in x:\n",
    "    if i != \",\":\n",
    "        member += i\n",
    "    elif i == \",\":\n",
    "        ls.append(member.strip())\n",
    "        member = \"\"\n",
    "    if indx == len(x) - 1:\n",
    "        if i != \",\" and i != \" \":\n",
    "            ls.append(member)\n",
    "            break\n",
    "        else:\n",
    "            ls.append(\"\")\n",
    "            break\n",
    "    indx += 1\n",
    "\n",
    "count = 0\n",
    "for i in ls:\n",
    "    if count == len(ls) - 1:\n",
    "        print(f\"\\\"{i}\\\"\", end=\"\")\n",
    "    else:\n",
    "        print(f\"\\\"{i}\\\",\", end=\"\")\n",
    "    count += 1"
   ]
  },
  {
   "cell_type": "code",
   "execution_count": 5,
   "metadata": {},
   "outputs": [
    {
     "name": "stdout",
     "output_type": "stream",
     "text": [
      " \n"
     ]
    }
   ],
   "source": [
    "phrase = input(); eiei = \"\"\n",
    "for i in phrase:\n",
    "    if i not in \"aeiouAEIOU\":\n",
    "        eiei += i\n",
    "\n",
    "print(eiei)"
   ]
  },
  {
   "cell_type": "code",
   "execution_count": 6,
   "metadata": {},
   "outputs": [
    {
     "name": "stdout",
     "output_type": "stream",
     "text": [
      "appy\n",
      "H\n"
     ]
    }
   ],
   "source": [
    "word = input()\n",
    "low =\"\"\n",
    "up =\"\"\n",
    "for i in word:\n",
    "    if i.islower():\n",
    "        low = low + i\n",
    "    elif i.isupper():\n",
    "        up = up + i\n",
    "print(low)\n",
    "print(up)"
   ]
  },
  {
   "cell_type": "code",
   "execution_count": 7,
   "metadata": {},
   "outputs": [
    {
     "name": "stdout",
     "output_type": "stream",
     "text": [
      "4\n",
      "1\n"
     ]
    }
   ],
   "source": [
    "string, lower, upper = input(), 0, 0\n",
    "for i in string:\n",
    "    if i.isalpha():\n",
    "        if i.islower():\n",
    "            lower += 1\n",
    "        else:\n",
    "            upper += 1\n",
    "print(lower, upper, sep=\"\\n\")"
   ]
  },
  {
   "cell_type": "code",
   "execution_count": 8,
   "metadata": {},
   "outputs": [
    {
     "name": "stdout",
     "output_type": "stream",
     "text": [
      "hOpE\n"
     ]
    }
   ],
   "source": [
    "word = input()\n",
    "wordd = \"\"\n",
    "for i in word:\n",
    "    if i.islower():\n",
    "        wordd = wordd + i.upper()\n",
    "    elif i.isupper():\n",
    "        wordd = wordd + i.lower()\n",
    "print(wordd)"
   ]
  }
 ],
 "metadata": {
  "interpreter": {
   "hash": "31f2aee4e71d21fbe5cf8b01ff0e069b9275f58929596ceb00d14d90e3e16cd6"
  },
  "kernelspec": {
   "display_name": "Python 3.8.9 64-bit",
   "name": "python3"
  },
  "language_info": {
   "codemirror_mode": {
    "name": "ipython",
    "version": 3
   },
   "file_extension": ".py",
   "mimetype": "text/x-python",
   "name": "python",
   "nbconvert_exporter": "python",
   "pygments_lexer": "ipython3",
   "version": "3.8.9"
  }
 },
 "nbformat": 4,
 "nbformat_minor": 2
}
