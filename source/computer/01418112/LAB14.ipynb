{
 "cells": [
  {
   "cell_type": "markdown",
   "metadata": {},
   "source": [
    "## 01 Count English Characters"
   ]
  },
  {
   "cell_type": "code",
   "execution_count": 1,
   "metadata": {},
   "outputs": [
    {
     "name": "stdout",
     "output_type": "stream",
     "text": [
      "{'h': 2, 'e': 3, 'l': 2, 'o': 1, 't': 1, 'r': 1}\n"
     ]
    }
   ],
   "source": [
    "def count_char(word):\n",
    "    txt = word.lower()\n",
    "    counts = dict()\n",
    "    for i in txt:\n",
    "        if i.isalnum():\n",
    "            if i in counts:\n",
    "                counts[i] += 1\n",
    "            else:\n",
    "                counts[i] = 1\n",
    "    return counts\n",
    "\n",
    "print(count_char(\"Hello, There\"))"
   ]
  },
  {
   "cell_type": "markdown",
   "metadata": {},
   "source": [
    "## 02"
   ]
  },
  {
   "cell_type": "code",
   "execution_count": 2,
   "metadata": {},
   "outputs": [
    {
     "name": "stdout",
     "output_type": "stream",
     "text": [
      "{'S': 0, 'M': 2, 'L': 2}\n"
     ]
    }
   ],
   "source": [
    "def cloth_size(width_list):\n",
    "    x = {\n",
    "        \"S\": 0,\n",
    "        \"M\": 0,\n",
    "        \"L\": 0\n",
    "    }\n",
    "    i = 0\n",
    "\n",
    "    for i in width_list:\n",
    "        if i > 44:\n",
    "            x[\"L\"] += 1\n",
    "        elif i > 36:\n",
    "            x[\"M\"] += 1\n",
    "        elif i <= 36:\n",
    "            x[\"S\"] += 1\n",
    "    return x\n",
    "\n",
    "print(cloth_size([50, 44, 40, 48]))"
   ]
  },
  {
   "cell_type": "markdown",
   "metadata": {},
   "source": [
    "## 03"
   ]
  },
  {
   "cell_type": "code",
   "execution_count": 9,
   "metadata": {},
   "outputs": [
    {
     "name": "stdout",
     "output_type": "stream",
     "text": [
      "Enter variables and values: \n",
      "Enter your program:\n",
      "Result:\n",
      "z = {X} + {Y}\n",
      "print(5)\n",
      "print(6)\n",
      "\n"
     ]
    }
   ],
   "source": [
    "print(\"Enter variables and values: \")\n",
    "\n",
    "a = {}\n",
    "\n",
    "while True:\n",
    "   x = input()\n",
    "   if  x != \"-1\":\n",
    "      s = x.split(\" = \")\n",
    "      a[s[0]] = s[1]\n",
    "   elif x == \"-1\":\n",
    "      break\n",
    "\n",
    "print(\"Enter your program:\")\n",
    "\n",
    "n = \"\"\n",
    "\n",
    "while True:\n",
    "   y = input()\n",
    "   if y == \"-1\":\n",
    "      break\n",
    "   elif y != \"-1\":\n",
    "      n += y + \"\\n\"   \n",
    "\n",
    "print(\"Result:\")\n",
    "\n",
    "for z in a :\n",
    "   n = n.replace(\"{\" + z + \"}\", a[z])\n",
    "\n",
    "print(n)"
   ]
  },
  {
   "cell_type": "markdown",
   "metadata": {},
   "source": [
    "## 04 Chemical Formula (version 2)"
   ]
  },
  {
   "cell_type": "code",
   "execution_count": 2,
   "metadata": {},
   "outputs": [],
   "source": [
    "subs, elem = input(), input()\n",
    "pool, char = {}, \"\"\n",
    "\n",
    "for i in subs:\n",
    "    char += i\n",
    "    if i.islower():\n"
   ]
  },
  {
   "cell_type": "code",
   "execution_count": null,
   "metadata": {},
   "outputs": [],
   "source": [
    "def getData(subs, curr):\n",
    "    def getNum(phrase):\n",
    "        number = phrase[0]\n",
    "        for i in phrase[1:]:\n",
    "            if i.isnumeric():\n",
    "                number += i\n",
    "                return number + getNum(phrase[2:])\n",
    "            else:\n",
    "                break\n",
    "        return number\n",
    "        \n",
    "    if len(curr) == len(subs):\n",
    "        dict = {}\n",
    "    if ord(subs[0]) in range(65, 91)):\n",
    "        if (ord(subs[1]) in range(97, 123):\n",
    "            if (ord(subs[1]) in range(0, 10)\n",
    "            return f\"dict[\"{subs[0] + subs[1]}\"] = {}\"\n",
    "        elif (ord(subs[1]) in range(0, 10):\n",
    "            return dict[]\n",
    "    elif (ord(subs[0]) in range(97, 123):\n",
    "        return subs[0]\n",
    "    for i in subs:\n",
    "        char += i\n",
    "        if i.islower():\n",
    "\n",
    "subs, elem = input(), input()\n",
    "pool, char = {}, \"\""
   ]
  },
  {
   "cell_type": "code",
   "execution_count": 37,
   "metadata": {},
   "outputs": [
    {
     "name": "stdout",
     "output_type": "stream",
     "text": [
      "1333w\n"
     ]
    }
   ],
   "source": [
    "def getNum(phrase):\n",
    "    number = phrase[0]\n",
    "    #if phrase[1].isnumeric()}:\n",
    "    for i in phrase[1:]:\n",
    "        if i.isnumeric():\n",
    "            number += i\n",
    "            return number + getNum(phrase[2:])\n",
    "        else:\n",
    "            break\n",
    "    return number\n",
    "\n",
    "print(getNum(\"1333wweee4c\"))"
   ]
  },
  {
   "cell_type": "code",
   "execution_count": null,
   "metadata": {},
   "outputs": [],
   "source": [
    "subs = input()\n",
    "for i in subs:\n",
    "    "
   ]
  },
  {
   "cell_type": "code",
   "execution_count": 42,
   "metadata": {},
   "outputs": [
    {
     "ename": "SyntaxError",
     "evalue": "invalid syntax (957383316.py, line 7)",
     "output_type": "error",
     "traceback": [
      "\u001b[0;36m  File \u001b[0;32m\"/var/folders/y1/gjh2y2395_lb_m446f5sw0b00000gn/T/ipykernel_12251/957383316.py\"\u001b[0;36m, line \u001b[0;32m7\u001b[0m\n\u001b[0;31m    continue i[2:]\u001b[0m\n\u001b[0m             ^\u001b[0m\n\u001b[0;31mSyntaxError\u001b[0m\u001b[0;31m:\u001b[0m invalid syntax\n"
     ]
    }
   ],
   "source": [
    "for i in input():\n",
    "    elem = \"\"; numb = \"\"\n",
    "    if i.isupper():\n",
    "        elem += i\n",
    "        if i[1].isalpha():\n",
    "            elem += i\n",
    "            i = \n",
    "            continue\n",
    "    if i.isnumeric():\n",
    "        numb += i"
   ]
  },
  {
   "cell_type": "markdown",
   "metadata": {},
   "source": [
    "## 05"
   ]
  },
  {
   "cell_type": "code",
   "execution_count": 10,
   "metadata": {},
   "outputs": [
    {
     "name": "stdout",
     "output_type": "stream",
     "text": [
      "kong bid at the price of 300.0 baht in 2 times.\n",
      "pp bid at the price of 1000.0 baht in 1 time.\n",
      "saac bid at the price of 900.0 baht in 2 times.\n",
      "The winner is pp.\n"
     ]
    }
   ],
   "source": [
    "import math\n",
    "\n",
    "people_dict = {}\n",
    "while True:\n",
    "    str_input = input()\n",
    "    if str_input == \"end\":\n",
    "        break\n",
    "    name, bid = str_input.split(\" \")\n",
    "    bid = float(bid)\n",
    "    if name in people_dict:\n",
    "        people_dict[name][\"time\"] += 1\n",
    "        if bid > people_dict[name][\"bid\"] :\n",
    "            people_dict[name][\"bid\"] = bid\n",
    "    else:\n",
    "        people_dict[name] = {\n",
    "            \"time\" : 1,\n",
    "            \"bid\" : bid\n",
    "        }\n",
    "\n",
    "winner = \"\"\n",
    "winner_bid = -math.inf\n",
    "for name in people_dict:\n",
    "    if people_dict[name][\"bid\"] > winner_bid:\n",
    "        winner_bid = people_dict[name][\"bid\"]\n",
    "        winner = name\n",
    "output_format = \"{:s} bid at the price of {:.1f} baht in {:d} time\"\n",
    "name_sort = list(people_dict.keys())\n",
    "name_sort.sort()\n",
    "\n",
    "for name in name_sort:\n",
    "    bid = people_dict[name][\"bid\"]\n",
    "    time = people_dict[name][\"time\"]\n",
    "    if time != 1 :\n",
    "        print(output_format.format(name, bid, time) + \"s.\")\n",
    "    else:\n",
    "        print(output_format.format(name, bid, time) + \".\")\n",
    "print(\"The winner is \" + winner + \".\")"
   ]
  },
  {
   "cell_type": "code",
   "execution_count": null,
   "metadata": {},
   "outputs": [],
   "source": [
    "months = {\n",
    "    \"jan\": \"January\",\n",
    "    \"feb\": \"February\",\n",
    "    \"mar\": \"March\",\n",
    "    \"apr\": \"April\",\n",
    "    \"may\": \"May\",\n",
    "    \"jun\": \"June\",\n",
    "    \"jul\": \"July\",\n",
    "    \"aug\": \"August\",\n",
    "    \"sep\": \"September\",\n",
    "    \"oct\": \"October\",\n",
    "    \"nov\": \"November\",\n",
    "    \"dec\": \"December\"\n",
    "}"
   ]
  },
  {
   "cell_type": "code",
   "execution_count": 25,
   "metadata": {},
   "outputs": [
    {
     "name": "stdout",
     "output_type": "stream",
     "text": [
      "Yes\n",
      "No\n",
      "No\n",
      "No\n",
      "No\n"
     ]
    }
   ],
   "source": [
    "provinces = {\n",
    "    \"central\": [\"Bangkok\", \"Samut Prakan\", \"Nonthaburi\", \"Samut Sakhon\", \"Ayutthaya\", \"Pathum Thani\"],\n",
    "    \"northern\": [\"Chiang Mai\", \"Chiang Rai\", \"Lamphun\", \"Lampang\", \"Mae Hong Son\", \"Nan\"],\n",
    "    \"northeastern\": [\"Roi Et\", \"Chaiyaphum\", \"Loei\", \"Nong Khai\", \"Sakon Nakhon\", \"Surin\"],\n",
    "    \"southern\": [\"Surat Thani\", \"Krabi\", \"Phuket\", \"Yala\", \"Songkhla\", \"Narathiwat\"]\n",
    "}\n",
    "\n",
    "while True:\n",
    "    toCheck = input()\n",
    "    if not toCheck:\n",
    "        break\n",
    "    toCheck = toCheck.split(\":\")\n",
    "    if toCheck[1] in provinces and toCheck[0] in provinces[toCheck[1]]:\n",
    "        print(\"Yes\")\n",
    "    else:\n",
    "        print(\"No\")"
   ]
  },
  {
   "cell_type": "code",
   "execution_count": 27,
   "metadata": {},
   "outputs": [
    {
     "name": "stdout",
     "output_type": "stream",
     "text": [
      "Bangkok:central\n",
      "Samut Prakan:central\n",
      "Nonthaburi:central\n",
      "Samut Sakhon:central\n",
      "Ayutthaya:central\n",
      "Pathum Thani:central\n",
      "Chiang Mai:northern\n",
      "Chiang Rai:northern\n",
      "Lamphun:northern\n",
      "Lampang:northern\n",
      "Mae Hong Son:northern\n",
      "Nan:northern\n",
      "Roi Et:northeastern\n",
      "Chaiyaphum:northeastern\n",
      "Loei:northeastern\n",
      "Nong Khai:northeastern\n",
      "Sakon Nakhon:northeastern\n",
      "Surin:northeastern\n",
      "Surat Thani:southern\n",
      "Krabi:southern\n",
      "Phuket:southern\n",
      "Yala:southern\n",
      "Songkhla:southern\n",
      "Narathiwat:southern\n"
     ]
    }
   ],
   "source": [
    "provinces = {\n",
    "    \"central\": [\"Bangkok\", \"Samut Prakan\", \"Nonthaburi\", \"Samut Sakhon\", \"Ayutthaya\", \"Pathum Thani\"],\n",
    "    \"northern\": [\"Chiang Mai\", \"Chiang Rai\", \"Lamphun\", \"Lampang\", \"Mae Hong Son\", \"Nan\"],\n",
    "    \"northeastern\": [\"Roi Et\", \"Chaiyaphum\", \"Loei\", \"Nong Khai\", \"Sakon Nakhon\", \"Surin\"],\n",
    "    \"southern\": [\"Surat Thani\", \"Krabi\", \"Phuket\", \"Yala\", \"Songkhla\", \"Narathiwat\"]\n",
    "}\n",
    "Prnt = [f\"{Pro}:{Reg}\" for Reg in provinces for Pro in provinces[Reg]]\n",
    "print(*Prnt, sep=\"\\n\")"
   ]
  },
  {
   "cell_type": "code",
   "execution_count": 30,
   "metadata": {},
   "outputs": [
    {
     "name": "stdout",
     "output_type": "stream",
     "text": [
      "{'central': ['Bangkok', 'Samut Prakan', 'Nonthaburi', 'Samut Sakhon', 'Ayutthaya', 'Pathum Thani', 'London'], 'northern': ['Chiang Mai', 'Chiang Rai', 'Lamphun', 'Lampang', 'Mae Hong Son', 'Nan'], 'northeastern': ['Roi Et', 'Chaiyaphum', 'Loei', 'Nong Khai', 'Sakon Nakhon', 'Surin'], 'southern': ['Surat Thani', 'Krabi', 'Phuket', 'Yala', 'Songkhla', 'Narathiwat']}\n"
     ]
    }
   ],
   "source": [
    "provinces = {\n",
    "    \"central\": [\"Bangkok\", \"Samut Prakan\", \"Nonthaburi\", \"Samut Sakhon\", \"Ayutthaya\", \"Pathum Thani\"],\n",
    "    \"northern\": [\"Chiang Mai\", \"Chiang Rai\", \"Lamphun\", \"Lampang\", \"Mae Hong Son\", \"Nan\"],\n",
    "    \"northeastern\": [\"Roi Et\", \"Chaiyaphum\", \"Loei\", \"Nong Khai\", \"Sakon Nakhon\", \"Surin\"],\n",
    "    \"southern\": [\"Surat Thani\", \"Krabi\", \"Phuket\", \"Yala\", \"Songkhla\", \"Narathiwat\"]\n",
    "}\n",
    "\n",
    "while True:\n",
    "    toAdd = input()\n",
    "    if not toAdd:\n",
    "        break\n",
    "    toAdd = toAdd.split(\":\")\n",
    "    if toAdd[1] in provinces:\n",
    "        provinces[toAdd[1]].append(toAdd[0])\n",
    "\n",
    "print(provinces)"
   ]
  },
  {
   "cell_type": "code",
   "execution_count": 31,
   "metadata": {},
   "outputs": [
    {
     "name": "stdout",
     "output_type": "stream",
     "text": [
      "{'en': 'England', 'jp': 'Japan', 'kr': 'Korea'}\n"
     ]
    }
   ],
   "source": [
    "countries = {\"th\": \"Thailand\", \"en\": \"England\", \"jp\": \"Japan\", \"kr\": \"Korea\"}\n",
    "countries.pop(\"th\")  # ลบ key \"th\" ออก\n",
    "print(countries)"
   ]
  },
  {
   "cell_type": "code",
   "execution_count": 32,
   "metadata": {},
   "outputs": [
    {
     "name": "stdout",
     "output_type": "stream",
     "text": [
      "{}\n"
     ]
    }
   ],
   "source": [
    "countries = {\"th\": \"Thailand\", \"en\": \"England\", \"jp\": \"Japan\", \"kr\": \"Korea\"}\n",
    "countries.clear()\n",
    "print(countries)"
   ]
  }
 ],
 "metadata": {
  "interpreter": {
   "hash": "31f2aee4e71d21fbe5cf8b01ff0e069b9275f58929596ceb00d14d90e3e16cd6"
  },
  "kernelspec": {
   "display_name": "Python 3.8.9 64-bit",
   "name": "python3"
  },
  "language_info": {
   "codemirror_mode": {
    "name": "ipython",
    "version": 3
   },
   "file_extension": ".py",
   "mimetype": "text/x-python",
   "name": "python",
   "nbconvert_exporter": "python",
   "pygments_lexer": "ipython3",
   "version": "3.8.9"
  },
  "orig_nbformat": 4
 },
 "nbformat": 4,
 "nbformat_minor": 2
}
